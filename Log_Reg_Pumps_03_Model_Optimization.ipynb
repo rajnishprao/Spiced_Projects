{
 "cells": [
  {
   "cell_type": "code",
   "execution_count": 1,
   "metadata": {},
   "outputs": [],
   "source": [
    "# Optimization of Random Forest Classifier: cross validation, feature selection, hyperparameter optimization \n",
    "# and final prediction"
   ]
  },
  {
   "cell_type": "code",
   "execution_count": 78,
   "metadata": {},
   "outputs": [],
   "source": [
    "import warnings\n",
    "warnings.filterwarnings('ignore')\n",
    "\n",
    "import numpy as np \n",
    "import pandas as pd\n",
    "pd.set_option('display.max_rows', 100)\n",
    "pd.set_option('display.max_columns', 500)\n",
    "\n",
    "import seaborn as sns\n",
    "from matplotlib import pyplot as plt\n",
    "%matplotlib inline\n",
    "\n",
    "from sklearn.ensemble import RandomForestClassifier\n",
    "from sklearn.model_selection import cross_val_score, cross_val_predict, train_test_split, GridSearchCV\n",
    "from sklearn.metrics import classification_report, accuracy_score, precision_score, recall_score, confusion_matrix\n",
    "from sklearn.preprocessing import MinMaxScaler\n",
    "import scikitplot as skplt"
   ]
  },
  {
   "cell_type": "code",
   "execution_count": 3,
   "metadata": {},
   "outputs": [
    {
     "data": {
      "text/plain": [
       "((59400, 39), (59400, 1))"
      ]
     },
     "execution_count": 3,
     "metadata": {},
     "output_type": "execute_result"
    }
   ],
   "source": [
    "# training data\n",
    "\n",
    "train_features = pd.read_csv('X_train_pumps.csv', index_col=0)\n",
    "train_labels = pd.read_csv('y_train_pumps.csv', index_col=0)\n",
    "\n",
    "train_features.shape, train_labels.shape"
   ]
  },
  {
   "cell_type": "code",
   "execution_count": 4,
   "metadata": {},
   "outputs": [
    {
     "data": {
      "text/plain": [
       "(14850, 39)"
      ]
     },
     "execution_count": 4,
     "metadata": {},
     "output_type": "execute_result"
    }
   ],
   "source": [
    "# test data\n",
    "\n",
    "test_features = pd.read_csv('X_test_pumps.csv', index_col=0)\n",
    "\n",
    "test_features.shape"
   ]
  },
  {
   "cell_type": "code",
   "execution_count": 5,
   "metadata": {},
   "outputs": [],
   "source": [
    "# data wrangling/feature engineering"
   ]
  },
  {
   "cell_type": "code",
   "execution_count": 6,
   "metadata": {},
   "outputs": [],
   "source": [
    "def wrangle_data(df):\n",
    "    # drop columns that do not appear to provide no obvious information or are repetitive \n",
    "    df = df.drop(['funder', 'installer','date_recorded', 'wpt_name', 'num_private', 'subvillage','region_code',\n",
    "                  'lga', 'ward', 'public_meeting', 'recorded_by','scheme_management', 'scheme_name', \n",
    "                  'permit','extraction_type', 'extraction_type_group', 'management', 'management_group',\n",
    "                  'payment', 'water_quality', 'quantity', 'source', 'source_class', \n",
    "                  'waterpoint_type_group','construction_year'], axis=1)\n",
    "    \n",
    "    # dummies for categorical columns\n",
    "    dummy_list = ['basin', 'region','district_code','extraction_type_class','payment_type','quality_group',\n",
    "                  'quantity_group','source_type','waterpoint_type']\n",
    "    for each in dummy_list:\n",
    "        try:\n",
    "            df = pd.get_dummies(data=df, prefix=dummy_list, columns=dummy_list, drop_first=True)\n",
    "        except:\n",
    "            Exception\n",
    "            continue\n",
    "            \n",
    "    # longtitide: replacing 0 with mean \n",
    "    df['longitude'].replace(0.000000, 34.213823, inplace=True)\n",
    "    \n",
    "    # MinMax Scaling of numerical columns\n",
    "    scale = MinMaxScaler()\n",
    "    \n",
    "    amount_tsh_scaled = scale.fit_transform(df[['amount_tsh']])\n",
    "    df['amount_tsh_scaled'] = amount_tsh_scaled\n",
    "    df = df.drop(['amount_tsh'], axis=1)\n",
    "    \n",
    "    gps_height_scaled = scale.fit_transform(df[['gps_height']])\n",
    "    df['gps_height_scaled'] = gps_height_scaled\n",
    "    df = df.drop(['gps_height'], axis=1)\n",
    "    \n",
    "    longitude_scaled = scale.fit_transform(df[['longitude']])\n",
    "    df['longitude_scaled'] = longitude_scaled\n",
    "    df = df.drop(['longitude'], axis=1)\n",
    "    \n",
    "    latitude_scaled = scale.fit_transform(df[['latitude']])\n",
    "    df['latitude_scaled'] = latitude_scaled\n",
    "    df = df.drop(['latitude'], axis=1)\n",
    "    \n",
    "    population_scaled = scale.fit_transform(df[['population']])\n",
    "    df['population_scaled'] = population_scaled\n",
    "    df = df.drop(['population'], axis=1)\n",
    "    \n",
    "    return df     "
   ]
  },
  {
   "cell_type": "code",
   "execution_count": 7,
   "metadata": {},
   "outputs": [],
   "source": [
    "train_features = wrangle_data(train_features)"
   ]
  },
  {
   "cell_type": "code",
   "execution_count": 8,
   "metadata": {},
   "outputs": [],
   "source": [
    "test_features = wrangle_data(test_features)"
   ]
  },
  {
   "cell_type": "code",
   "execution_count": 9,
   "metadata": {},
   "outputs": [
    {
     "data": {
      "text/plain": [
       "((59400, 85), (14850, 85))"
      ]
     },
     "execution_count": 9,
     "metadata": {},
     "output_type": "execute_result"
    }
   ],
   "source": [
    "# both data sets have same number of features \n",
    "train_features.shape, test_features.shape"
   ]
  },
  {
   "cell_type": "code",
   "execution_count": 12,
   "metadata": {},
   "outputs": [
    {
     "data": {
      "text/plain": [
       "((59400, 85), (59400, 1))"
      ]
     },
     "execution_count": 12,
     "metadata": {},
     "output_type": "execute_result"
    }
   ],
   "source": [
    "X = train_features\n",
    "y = train_labels\n",
    "X.shape, y.shape"
   ]
  },
  {
   "cell_type": "code",
   "execution_count": 13,
   "metadata": {},
   "outputs": [
    {
     "data": {
      "text/plain": [
       "((47520, 85), (11880, 85), (47520, 1), (11880, 1))"
      ]
     },
     "execution_count": 13,
     "metadata": {},
     "output_type": "execute_result"
    }
   ],
   "source": [
    "X_train, X_test, y_train, y_test = train_test_split(X, y, test_size=0.2, random_state=42)\n",
    "X_train.shape, X_test.shape, y_train.shape, y_test.shape"
   ]
  },
  {
   "cell_type": "code",
   "execution_count": 14,
   "metadata": {},
   "outputs": [
    {
     "data": {
      "text/plain": [
       "RandomForestClassifier(bootstrap=True, ccp_alpha=0.0, class_weight=None,\n",
       "                       criterion='gini', max_depth=None, max_features='auto',\n",
       "                       max_leaf_nodes=None, max_samples=None,\n",
       "                       min_impurity_decrease=0.0, min_impurity_split=None,\n",
       "                       min_samples_leaf=1, min_samples_split=2,\n",
       "                       min_weight_fraction_leaf=0.0, n_estimators=100,\n",
       "                       n_jobs=None, oob_score=False, random_state=None,\n",
       "                       verbose=0, warm_start=False)"
      ]
     },
     "execution_count": 14,
     "metadata": {},
     "output_type": "execute_result"
    }
   ],
   "source": [
    "# Random Forest Classifier: test accuracy - 0.79\n",
    "\n",
    "rf = RandomForestClassifier(n_estimators=100)\n",
    "rf.fit(X_train, y_train)"
   ]
  },
  {
   "cell_type": "code",
   "execution_count": 58,
   "metadata": {},
   "outputs": [
    {
     "name": "stdout",
     "output_type": "stream",
     "text": [
      "rf training score:  0.993560606060606\n"
     ]
    }
   ],
   "source": [
    "print('rf training score: ', rf.score(X_train, y_train))"
   ]
  },
  {
   "cell_type": "code",
   "execution_count": 15,
   "metadata": {},
   "outputs": [],
   "source": [
    "y_pred_rf = rf.predict(X_test)"
   ]
  },
  {
   "cell_type": "code",
   "execution_count": 16,
   "metadata": {},
   "outputs": [],
   "source": [
    "rf_train_score = rf.score(X_train, y_train)\n",
    "rf_test_acc = accuracy_score(y_test, y_pred_rf)\n",
    "rf_test_precision = precision_score(y_test, y_pred_rf, average='weighted')\n",
    "rf_test_recall = recall_score(y_test, y_pred_rf, average='weighted')"
   ]
  },
  {
   "cell_type": "code",
   "execution_count": 17,
   "metadata": {},
   "outputs": [
    {
     "name": "stdout",
     "output_type": "stream",
     "text": [
      "                         precision    recall  f1-score   support\n",
      "\n",
      "             functional       0.80      0.86      0.83      6457\n",
      "functional needs repair       0.50      0.35      0.41       851\n",
      "         non functional       0.81      0.78      0.79      4572\n",
      "\n",
      "               accuracy                           0.79     11880\n",
      "              macro avg       0.71      0.66      0.68     11880\n",
      "           weighted avg       0.79      0.79      0.79     11880\n",
      "\n"
     ]
    }
   ],
   "source": [
    "print(classification_report(y_test, y_pred_rf))"
   ]
  },
  {
   "cell_type": "code",
   "execution_count": 18,
   "metadata": {},
   "outputs": [],
   "source": [
    "# Cross validation\n",
    "\n",
    "scores = cross_val_score(rf, X_train, y_train, cv=10, scoring='accuracy')"
   ]
  },
  {
   "cell_type": "code",
   "execution_count": 19,
   "metadata": {},
   "outputs": [
    {
     "name": "stdout",
     "output_type": "stream",
     "text": [
      "Scores: [0.78619529 0.78914141 0.78829966 0.78724747 0.78977273 0.78703704\n",
      " 0.78956229 0.79313973 0.79292929 0.78808923]\n",
      "Mean: 0.7891414141414141\n",
      "STD: 0.0022230829370781567\n"
     ]
    }
   ],
   "source": [
    "# CV scores: identical to earlier test accuracy scores \n",
    "\n",
    "print('Scores:', scores)\n",
    "print('Mean:', scores.mean())\n",
    "print('STD:', scores.std())"
   ]
  },
  {
   "cell_type": "code",
   "execution_count": 20,
   "metadata": {},
   "outputs": [],
   "source": [
    "# Feature Importances"
   ]
  },
  {
   "cell_type": "code",
   "execution_count": 22,
   "metadata": {},
   "outputs": [
    {
     "data": {
      "text/html": [
       "<div>\n",
       "<style scoped>\n",
       "    .dataframe tbody tr th:only-of-type {\n",
       "        vertical-align: middle;\n",
       "    }\n",
       "\n",
       "    .dataframe tbody tr th {\n",
       "        vertical-align: top;\n",
       "    }\n",
       "\n",
       "    .dataframe thead th {\n",
       "        text-align: right;\n",
       "    }\n",
       "</style>\n",
       "<table border=\"1\" class=\"dataframe\">\n",
       "  <thead>\n",
       "    <tr style=\"text-align: right;\">\n",
       "      <th></th>\n",
       "      <th>Importance</th>\n",
       "    </tr>\n",
       "    <tr>\n",
       "      <th>Feature</th>\n",
       "      <th></th>\n",
       "    </tr>\n",
       "  </thead>\n",
       "  <tbody>\n",
       "    <tr>\n",
       "      <th>longitude_scaled</th>\n",
       "      <td>0.186460</td>\n",
       "    </tr>\n",
       "    <tr>\n",
       "      <th>latitude_scaled</th>\n",
       "      <td>0.184901</td>\n",
       "    </tr>\n",
       "    <tr>\n",
       "      <th>gps_height_scaled</th>\n",
       "      <td>0.093017</td>\n",
       "    </tr>\n",
       "    <tr>\n",
       "      <th>population_scaled</th>\n",
       "      <td>0.064038</td>\n",
       "    </tr>\n",
       "    <tr>\n",
       "      <th>quantity_group_enough</th>\n",
       "      <td>0.045849</td>\n",
       "    </tr>\n",
       "    <tr>\n",
       "      <th>waterpoint_type_other</th>\n",
       "      <td>0.032393</td>\n",
       "    </tr>\n",
       "    <tr>\n",
       "      <th>amount_tsh_scaled</th>\n",
       "      <td>0.031012</td>\n",
       "    </tr>\n",
       "    <tr>\n",
       "      <th>extraction_type_class_other</th>\n",
       "      <td>0.030003</td>\n",
       "    </tr>\n",
       "    <tr>\n",
       "      <th>quantity_group_insufficient</th>\n",
       "      <td>0.028080</td>\n",
       "    </tr>\n",
       "    <tr>\n",
       "      <th>quantity_group_seasonal</th>\n",
       "      <td>0.013962</td>\n",
       "    </tr>\n",
       "    <tr>\n",
       "      <th>payment_type_never pay</th>\n",
       "      <td>0.013402</td>\n",
       "    </tr>\n",
       "    <tr>\n",
       "      <th>waterpoint_type_communal standpipe</th>\n",
       "      <td>0.013401</td>\n",
       "    </tr>\n",
       "    <tr>\n",
       "      <th>source_type_shallow well</th>\n",
       "      <td>0.010344</td>\n",
       "    </tr>\n",
       "    <tr>\n",
       "      <th>source_type_spring</th>\n",
       "      <td>0.010011</td>\n",
       "    </tr>\n",
       "    <tr>\n",
       "      <th>extraction_type_class_handpump</th>\n",
       "      <td>0.009538</td>\n",
       "    </tr>\n",
       "    <tr>\n",
       "      <th>waterpoint_type_communal standpipe multiple</th>\n",
       "      <td>0.009231</td>\n",
       "    </tr>\n",
       "    <tr>\n",
       "      <th>district_code_1</th>\n",
       "      <td>0.009037</td>\n",
       "    </tr>\n",
       "    <tr>\n",
       "      <th>quality_group_good</th>\n",
       "      <td>0.008602</td>\n",
       "    </tr>\n",
       "    <tr>\n",
       "      <th>waterpoint_type_hand pump</th>\n",
       "      <td>0.008347</td>\n",
       "    </tr>\n",
       "    <tr>\n",
       "      <th>quality_group_unknown</th>\n",
       "      <td>0.008187</td>\n",
       "    </tr>\n",
       "    <tr>\n",
       "      <th>district_code_3</th>\n",
       "      <td>0.007982</td>\n",
       "    </tr>\n",
       "    <tr>\n",
       "      <th>district_code_2</th>\n",
       "      <td>0.007931</td>\n",
       "    </tr>\n",
       "    <tr>\n",
       "      <th>extraction_type_class_submersible</th>\n",
       "      <td>0.007803</td>\n",
       "    </tr>\n",
       "    <tr>\n",
       "      <th>payment_type_per bucket</th>\n",
       "      <td>0.007462</td>\n",
       "    </tr>\n",
       "    <tr>\n",
       "      <th>source_type_river/lake</th>\n",
       "      <td>0.007248</td>\n",
       "    </tr>\n",
       "    <tr>\n",
       "      <th>payment_type_unknown</th>\n",
       "      <td>0.007138</td>\n",
       "    </tr>\n",
       "    <tr>\n",
       "      <th>source_type_rainwater harvesting</th>\n",
       "      <td>0.006850</td>\n",
       "    </tr>\n",
       "    <tr>\n",
       "      <th>district_code_4</th>\n",
       "      <td>0.006737</td>\n",
       "    </tr>\n",
       "    <tr>\n",
       "      <th>payment_type_monthly</th>\n",
       "      <td>0.006704</td>\n",
       "    </tr>\n",
       "    <tr>\n",
       "      <th>extraction_type_class_motorpump</th>\n",
       "      <td>0.005187</td>\n",
       "    </tr>\n",
       "    <tr>\n",
       "      <th>quality_group_salty</th>\n",
       "      <td>0.005080</td>\n",
       "    </tr>\n",
       "    <tr>\n",
       "      <th>region_Shinyanga</th>\n",
       "      <td>0.004826</td>\n",
       "    </tr>\n",
       "    <tr>\n",
       "      <th>region_Iringa</th>\n",
       "      <td>0.004637</td>\n",
       "    </tr>\n",
       "    <tr>\n",
       "      <th>basin_Lake Victoria</th>\n",
       "      <td>0.004526</td>\n",
       "    </tr>\n",
       "    <tr>\n",
       "      <th>district_code_6</th>\n",
       "      <td>0.004468</td>\n",
       "    </tr>\n",
       "    <tr>\n",
       "      <th>district_code_5</th>\n",
       "      <td>0.004380</td>\n",
       "    </tr>\n",
       "    <tr>\n",
       "      <th>district_code_7</th>\n",
       "      <td>0.004191</td>\n",
       "    </tr>\n",
       "    <tr>\n",
       "      <th>basin_Lake Tanganyika</th>\n",
       "      <td>0.004157</td>\n",
       "    </tr>\n",
       "    <tr>\n",
       "      <th>payment_type_on failure</th>\n",
       "      <td>0.003957</td>\n",
       "    </tr>\n",
       "    <tr>\n",
       "      <th>basin_Rufiji</th>\n",
       "      <td>0.003925</td>\n",
       "    </tr>\n",
       "    <tr>\n",
       "      <th>basin_Pangani</th>\n",
       "      <td>0.003703</td>\n",
       "    </tr>\n",
       "    <tr>\n",
       "      <th>basin_Wami / Ruvu</th>\n",
       "      <td>0.003576</td>\n",
       "    </tr>\n",
       "    <tr>\n",
       "      <th>basin_Lake Nyasa</th>\n",
       "      <td>0.003526</td>\n",
       "    </tr>\n",
       "    <tr>\n",
       "      <th>basin_Lake Rukwa</th>\n",
       "      <td>0.003010</td>\n",
       "    </tr>\n",
       "    <tr>\n",
       "      <th>basin_Ruvuma / Southern Coast</th>\n",
       "      <td>0.002779</td>\n",
       "    </tr>\n",
       "    <tr>\n",
       "      <th>region_Kigoma</th>\n",
       "      <td>0.002675</td>\n",
       "    </tr>\n",
       "    <tr>\n",
       "      <th>region_Kilimanjaro</th>\n",
       "      <td>0.002660</td>\n",
       "    </tr>\n",
       "    <tr>\n",
       "      <th>region_Morogoro</th>\n",
       "      <td>0.002584</td>\n",
       "    </tr>\n",
       "    <tr>\n",
       "      <th>region_Singida</th>\n",
       "      <td>0.002397</td>\n",
       "    </tr>\n",
       "    <tr>\n",
       "      <th>region_Mbeya</th>\n",
       "      <td>0.002389</td>\n",
       "    </tr>\n",
       "    <tr>\n",
       "      <th>waterpoint_type_improved spring</th>\n",
       "      <td>0.002389</td>\n",
       "    </tr>\n",
       "    <tr>\n",
       "      <th>region_Mwanza</th>\n",
       "      <td>0.002360</td>\n",
       "    </tr>\n",
       "    <tr>\n",
       "      <th>region_Mara</th>\n",
       "      <td>0.002180</td>\n",
       "    </tr>\n",
       "    <tr>\n",
       "      <th>region_Dodoma</th>\n",
       "      <td>0.002167</td>\n",
       "    </tr>\n",
       "    <tr>\n",
       "      <th>region_Kagera</th>\n",
       "      <td>0.002112</td>\n",
       "    </tr>\n",
       "    <tr>\n",
       "      <th>region_Rukwa</th>\n",
       "      <td>0.002077</td>\n",
       "    </tr>\n",
       "    <tr>\n",
       "      <th>region_Tanga</th>\n",
       "      <td>0.002061</td>\n",
       "    </tr>\n",
       "    <tr>\n",
       "      <th>source_type_dam</th>\n",
       "      <td>0.002055</td>\n",
       "    </tr>\n",
       "    <tr>\n",
       "      <th>region_Manyara</th>\n",
       "      <td>0.001944</td>\n",
       "    </tr>\n",
       "    <tr>\n",
       "      <th>region_Pwani</th>\n",
       "      <td>0.001919</td>\n",
       "    </tr>\n",
       "    <tr>\n",
       "      <th>quantity_group_unknown</th>\n",
       "      <td>0.001896</td>\n",
       "    </tr>\n",
       "    <tr>\n",
       "      <th>district_code_8</th>\n",
       "      <td>0.001813</td>\n",
       "    </tr>\n",
       "    <tr>\n",
       "      <th>region_Tabora</th>\n",
       "      <td>0.001776</td>\n",
       "    </tr>\n",
       "    <tr>\n",
       "      <th>region_Mtwara</th>\n",
       "      <td>0.001664</td>\n",
       "    </tr>\n",
       "    <tr>\n",
       "      <th>district_code_30</th>\n",
       "      <td>0.001646</td>\n",
       "    </tr>\n",
       "    <tr>\n",
       "      <th>payment_type_other</th>\n",
       "      <td>0.001609</td>\n",
       "    </tr>\n",
       "    <tr>\n",
       "      <th>quality_group_milky</th>\n",
       "      <td>0.001553</td>\n",
       "    </tr>\n",
       "    <tr>\n",
       "      <th>region_Lindi</th>\n",
       "      <td>0.001494</td>\n",
       "    </tr>\n",
       "    <tr>\n",
       "      <th>region_Ruvuma</th>\n",
       "      <td>0.001439</td>\n",
       "    </tr>\n",
       "    <tr>\n",
       "      <th>district_code_33</th>\n",
       "      <td>0.001403</td>\n",
       "    </tr>\n",
       "    <tr>\n",
       "      <th>district_code_53</th>\n",
       "      <td>0.001376</td>\n",
       "    </tr>\n",
       "    <tr>\n",
       "      <th>extraction_type_class_rope pump</th>\n",
       "      <td>0.001215</td>\n",
       "    </tr>\n",
       "    <tr>\n",
       "      <th>source_type_other</th>\n",
       "      <td>0.000973</td>\n",
       "    </tr>\n",
       "    <tr>\n",
       "      <th>district_code_43</th>\n",
       "      <td>0.000897</td>\n",
       "    </tr>\n",
       "    <tr>\n",
       "      <th>quality_group_fluoride</th>\n",
       "      <td>0.000801</td>\n",
       "    </tr>\n",
       "    <tr>\n",
       "      <th>region_Dar es Salaam</th>\n",
       "      <td>0.000669</td>\n",
       "    </tr>\n",
       "    <tr>\n",
       "      <th>district_code_23</th>\n",
       "      <td>0.000511</td>\n",
       "    </tr>\n",
       "    <tr>\n",
       "      <th>extraction_type_class_wind-powered</th>\n",
       "      <td>0.000475</td>\n",
       "    </tr>\n",
       "    <tr>\n",
       "      <th>district_code_13</th>\n",
       "      <td>0.000466</td>\n",
       "    </tr>\n",
       "    <tr>\n",
       "      <th>district_code_63</th>\n",
       "      <td>0.000256</td>\n",
       "    </tr>\n",
       "    <tr>\n",
       "      <th>district_code_60</th>\n",
       "      <td>0.000236</td>\n",
       "    </tr>\n",
       "    <tr>\n",
       "      <th>district_code_62</th>\n",
       "      <td>0.000194</td>\n",
       "    </tr>\n",
       "    <tr>\n",
       "      <th>district_code_80</th>\n",
       "      <td>0.000043</td>\n",
       "    </tr>\n",
       "    <tr>\n",
       "      <th>waterpoint_type_dam</th>\n",
       "      <td>0.000021</td>\n",
       "    </tr>\n",
       "    <tr>\n",
       "      <th>district_code_67</th>\n",
       "      <td>0.000005</td>\n",
       "    </tr>\n",
       "  </tbody>\n",
       "</table>\n",
       "</div>"
      ],
      "text/plain": [
       "                                             Importance\n",
       "Feature                                                \n",
       "longitude_scaled                               0.186460\n",
       "latitude_scaled                                0.184901\n",
       "gps_height_scaled                              0.093017\n",
       "population_scaled                              0.064038\n",
       "quantity_group_enough                          0.045849\n",
       "waterpoint_type_other                          0.032393\n",
       "amount_tsh_scaled                              0.031012\n",
       "extraction_type_class_other                    0.030003\n",
       "quantity_group_insufficient                    0.028080\n",
       "quantity_group_seasonal                        0.013962\n",
       "payment_type_never pay                         0.013402\n",
       "waterpoint_type_communal standpipe             0.013401\n",
       "source_type_shallow well                       0.010344\n",
       "source_type_spring                             0.010011\n",
       "extraction_type_class_handpump                 0.009538\n",
       "waterpoint_type_communal standpipe multiple    0.009231\n",
       "district_code_1                                0.009037\n",
       "quality_group_good                             0.008602\n",
       "waterpoint_type_hand pump                      0.008347\n",
       "quality_group_unknown                          0.008187\n",
       "district_code_3                                0.007982\n",
       "district_code_2                                0.007931\n",
       "extraction_type_class_submersible              0.007803\n",
       "payment_type_per bucket                        0.007462\n",
       "source_type_river/lake                         0.007248\n",
       "payment_type_unknown                           0.007138\n",
       "source_type_rainwater harvesting               0.006850\n",
       "district_code_4                                0.006737\n",
       "payment_type_monthly                           0.006704\n",
       "extraction_type_class_motorpump                0.005187\n",
       "quality_group_salty                            0.005080\n",
       "region_Shinyanga                               0.004826\n",
       "region_Iringa                                  0.004637\n",
       "basin_Lake Victoria                            0.004526\n",
       "district_code_6                                0.004468\n",
       "district_code_5                                0.004380\n",
       "district_code_7                                0.004191\n",
       "basin_Lake Tanganyika                          0.004157\n",
       "payment_type_on failure                        0.003957\n",
       "basin_Rufiji                                   0.003925\n",
       "basin_Pangani                                  0.003703\n",
       "basin_Wami / Ruvu                              0.003576\n",
       "basin_Lake Nyasa                               0.003526\n",
       "basin_Lake Rukwa                               0.003010\n",
       "basin_Ruvuma / Southern Coast                  0.002779\n",
       "region_Kigoma                                  0.002675\n",
       "region_Kilimanjaro                             0.002660\n",
       "region_Morogoro                                0.002584\n",
       "region_Singida                                 0.002397\n",
       "region_Mbeya                                   0.002389\n",
       "waterpoint_type_improved spring                0.002389\n",
       "region_Mwanza                                  0.002360\n",
       "region_Mara                                    0.002180\n",
       "region_Dodoma                                  0.002167\n",
       "region_Kagera                                  0.002112\n",
       "region_Rukwa                                   0.002077\n",
       "region_Tanga                                   0.002061\n",
       "source_type_dam                                0.002055\n",
       "region_Manyara                                 0.001944\n",
       "region_Pwani                                   0.001919\n",
       "quantity_group_unknown                         0.001896\n",
       "district_code_8                                0.001813\n",
       "region_Tabora                                  0.001776\n",
       "region_Mtwara                                  0.001664\n",
       "district_code_30                               0.001646\n",
       "payment_type_other                             0.001609\n",
       "quality_group_milky                            0.001553\n",
       "region_Lindi                                   0.001494\n",
       "region_Ruvuma                                  0.001439\n",
       "district_code_33                               0.001403\n",
       "district_code_53                               0.001376\n",
       "extraction_type_class_rope pump                0.001215\n",
       "source_type_other                              0.000973\n",
       "district_code_43                               0.000897\n",
       "quality_group_fluoride                         0.000801\n",
       "region_Dar es Salaam                           0.000669\n",
       "district_code_23                               0.000511\n",
       "extraction_type_class_wind-powered             0.000475\n",
       "district_code_13                               0.000466\n",
       "district_code_63                               0.000256\n",
       "district_code_60                               0.000236\n",
       "district_code_62                               0.000194\n",
       "district_code_80                               0.000043\n",
       "waterpoint_type_dam                            0.000021\n",
       "district_code_67                               0.000005"
      ]
     },
     "execution_count": 22,
     "metadata": {},
     "output_type": "execute_result"
    }
   ],
   "source": [
    "importances = pd.DataFrame({'Feature': list(X_train.columns), 'Importance': rf.feature_importances_})\n",
    "importances = importances.sort_values('Importance', ascending=False).set_index('Feature')\n",
    "importances"
   ]
  },
  {
   "cell_type": "code",
   "execution_count": 23,
   "metadata": {},
   "outputs": [
    {
     "data": {
      "text/plain": [
       "<matplotlib.axes._subplots.AxesSubplot at 0x7fd432844650>"
      ]
     },
     "execution_count": 23,
     "metadata": {},
     "output_type": "execute_result"
    },
    {
     "data": {
      "text/plain": [
       "<Figure size 1440x2880 with 0 Axes>"
      ]
     },
     "metadata": {},
     "output_type": "display_data"
    },
    {
     "data": {
      "image/png": "[encoded data removed]",
      "text/plain": [
       "<Figure size 432x288 with 1 Axes>"
      ]
     },
     "metadata": {
      "needs_background": "light"
     },
     "output_type": "display_data"
    }
   ],
   "source": [
    "plt.figure(figsize=(20,40))\n",
    "importances.plot.bar()"
   ]
  },
  {
   "cell_type": "code",
   "execution_count": 24,
   "metadata": {},
   "outputs": [
    {
     "data": {
      "text/plain": [
       "Index(['longitude_scaled', 'latitude_scaled', 'gps_height_scaled',\n",
       "       'population_scaled', 'quantity_group_enough', 'waterpoint_type_other',\n",
       "       'amount_tsh_scaled', 'extraction_type_class_other',\n",
       "       'quantity_group_insufficient', 'quantity_group_seasonal',\n",
       "       'payment_type_never pay', 'waterpoint_type_communal standpipe',\n",
       "       'source_type_shallow well', 'source_type_spring',\n",
       "       'extraction_type_class_handpump',\n",
       "       'waterpoint_type_communal standpipe multiple', 'district_code_1',\n",
       "       'quality_group_good', 'waterpoint_type_hand pump',\n",
       "       'quality_group_unknown', 'district_code_3', 'district_code_2',\n",
       "       'extraction_type_class_submersible', 'payment_type_per bucket',\n",
       "       'source_type_river/lake', 'payment_type_unknown',\n",
       "       'source_type_rainwater harvesting', 'district_code_4',\n",
       "       'payment_type_monthly', 'extraction_type_class_motorpump',\n",
       "       'quality_group_salty', 'region_Shinyanga', 'region_Iringa',\n",
       "       'basin_Lake Victoria', 'district_code_6', 'district_code_5',\n",
       "       'district_code_7', 'basin_Lake Tanganyika', 'payment_type_on failure',\n",
       "       'basin_Rufiji', 'basin_Pangani', 'basin_Wami / Ruvu',\n",
       "       'basin_Lake Nyasa', 'basin_Lake Rukwa', 'basin_Ruvuma / Southern Coast',\n",
       "       'region_Kigoma', 'region_Kilimanjaro', 'region_Morogoro',\n",
       "       'region_Singida', 'region_Mbeya', 'waterpoint_type_improved spring',\n",
       "       'region_Mwanza', 'region_Mara', 'region_Dodoma', 'region_Kagera',\n",
       "       'region_Rukwa', 'region_Tanga', 'source_type_dam', 'region_Manyara',\n",
       "       'region_Pwani', 'quantity_group_unknown', 'district_code_8',\n",
       "       'region_Tabora', 'region_Mtwara', 'district_code_30',\n",
       "       'payment_type_other', 'quality_group_milky', 'region_Lindi',\n",
       "       'region_Ruvuma', 'district_code_33', 'district_code_53',\n",
       "       'extraction_type_class_rope pump', 'source_type_other',\n",
       "       'district_code_43', 'quality_group_fluoride', 'region_Dar es Salaam',\n",
       "       'district_code_23', 'extraction_type_class_wind-powered',\n",
       "       'district_code_13', 'district_code_63', 'district_code_60',\n",
       "       'district_code_62', 'district_code_80', 'waterpoint_type_dam',\n",
       "       'district_code_67'],\n",
       "      dtype='object', name='Feature')"
      ]
     },
     "execution_count": 24,
     "metadata": {},
     "output_type": "execute_result"
    }
   ],
   "source": [
    "importances.index"
   ]
  },
  {
   "cell_type": "code",
   "execution_count": 33,
   "metadata": {},
   "outputs": [],
   "source": [
    "# can features having importance > 0.007 suffice in predicting functionality of pumps?\n",
    "\n",
    "X2 = train_features[['longitude_scaled', 'latitude_scaled', 'gps_height_scaled',\n",
    "       'population_scaled', 'quantity_group_enough', 'waterpoint_type_other',\n",
    "       'amount_tsh_scaled', 'extraction_type_class_other',\n",
    "       'quantity_group_insufficient', 'quantity_group_seasonal',\n",
    "       'payment_type_never pay', 'waterpoint_type_communal standpipe',\n",
    "       'source_type_shallow well', 'source_type_spring',\n",
    "       'extraction_type_class_handpump',\n",
    "       'waterpoint_type_communal standpipe multiple', 'district_code_1',\n",
    "       'quality_group_good', 'waterpoint_type_hand pump',\n",
    "       'quality_group_unknown']].to_numpy()\n",
    "y2 = train_labels"
   ]
  },
  {
   "cell_type": "code",
   "execution_count": 34,
   "metadata": {},
   "outputs": [
    {
     "data": {
      "text/plain": [
       "((47520, 20), (11880, 20), (47520, 1), (11880, 1))"
      ]
     },
     "execution_count": 34,
     "metadata": {},
     "output_type": "execute_result"
    }
   ],
   "source": [
    "X2_train, X2_test, y2_train, y2_test = train_test_split(X2, y2, test_size=0.2, random_state=42)\n",
    "X2_train.shape, X2_test.shape, y2_train.shape, y2_test.shape"
   ]
  },
  {
   "cell_type": "code",
   "execution_count": 35,
   "metadata": {},
   "outputs": [
    {
     "data": {
      "text/plain": [
       "RandomForestClassifier(bootstrap=True, ccp_alpha=0.0, class_weight=None,\n",
       "                       criterion='gini', max_depth=None, max_features='auto',\n",
       "                       max_leaf_nodes=None, max_samples=None,\n",
       "                       min_impurity_decrease=0.0, min_impurity_split=None,\n",
       "                       min_samples_leaf=1, min_samples_split=2,\n",
       "                       min_weight_fraction_leaf=0.0, n_estimators=100,\n",
       "                       n_jobs=None, oob_score=True, random_state=None,\n",
       "                       verbose=0, warm_start=False)"
      ]
     },
     "execution_count": 35,
     "metadata": {},
     "output_type": "execute_result"
    }
   ],
   "source": [
    "rf2 = RandomForestClassifier(n_estimators=100, oob_score=True)\n",
    "rf2.fit(X2_train, y2_train)"
   ]
  },
  {
   "cell_type": "code",
   "execution_count": 57,
   "metadata": {},
   "outputs": [
    {
     "name": "stdout",
     "output_type": "stream",
     "text": [
      "rf2 training score:  0.9926767676767677\n"
     ]
    }
   ],
   "source": [
    "print('rf2 training score: ', rf2.score(X2_train, y2_train))"
   ]
  },
  {
   "cell_type": "code",
   "execution_count": 36,
   "metadata": {},
   "outputs": [],
   "source": [
    "y2_pred_rf2 = rf2.predict(X2_test)"
   ]
  },
  {
   "cell_type": "code",
   "execution_count": 37,
   "metadata": {},
   "outputs": [],
   "source": [
    "rf2_train_score = rf2.score(X2_train, y2_train)\n",
    "rf2_test_acc = accuracy_score(y2_test, y2_pred_rf2)\n",
    "rf2_test_precision = precision_score(y2_test, y2_pred_rf2, average='weighted')\n",
    "rf2_test_recall = recall_score(y2_test, y2_pred_rf2, average='weighted')"
   ]
  },
  {
   "cell_type": "code",
   "execution_count": 38,
   "metadata": {},
   "outputs": [
    {
     "name": "stdout",
     "output_type": "stream",
     "text": [
      "                         precision    recall  f1-score   support\n",
      "\n",
      "             functional       0.80      0.86      0.83      6457\n",
      "functional needs repair       0.50      0.34      0.40       851\n",
      "         non functional       0.81      0.77      0.79      4572\n",
      "\n",
      "               accuracy                           0.79     11880\n",
      "              macro avg       0.70      0.66      0.67     11880\n",
      "           weighted avg       0.78      0.79      0.78     11880\n",
      "\n"
     ]
    }
   ],
   "source": [
    "print(classification_report(y2_test, y2_pred_rf2))"
   ]
  },
  {
   "cell_type": "code",
   "execution_count": 39,
   "metadata": {},
   "outputs": [],
   "source": [
    "# no great change in test accuracy\n",
    "# but with above set of features, the precision & recall scores remain as before\n",
    "# any more reduction affects these values"
   ]
  },
  {
   "cell_type": "code",
   "execution_count": 40,
   "metadata": {},
   "outputs": [],
   "source": [
    "# repeating cross validation to ensure this result\n",
    "\n",
    "scores2 = cross_val_score(rf2, X2_train, y2_train, cv=10, scoring='accuracy')"
   ]
  },
  {
   "cell_type": "code",
   "execution_count": 51,
   "metadata": {},
   "outputs": [
    {
     "name": "stdout",
     "output_type": "stream",
     "text": [
      "Scores: [0.78072391 0.78219697 0.7834596  0.7885101  0.78619529 0.78661616\n",
      " 0.7885101  0.79166667 0.78998316 0.78261785]\n",
      "Mean: 0.7860479797979798\n",
      "STD: 0.003480884002844506\n"
     ]
    }
   ],
   "source": [
    "# CV scores: identical to earlier test accuracy scores ?????\n",
    "\n",
    "print('Scores:', scores2)\n",
    "print('Mean:', scores2.mean())\n",
    "print('STD:', scores2.std())"
   ]
  },
  {
   "cell_type": "code",
   "execution_count": 42,
   "metadata": {},
   "outputs": [],
   "source": [
    "# Hyperparameter Optimization"
   ]
  },
  {
   "cell_type": "code",
   "execution_count": 47,
   "metadata": {},
   "outputs": [],
   "source": [
    "param_grid = {'criterion': ['gini', 'entropy'], 'min_samples_leaf':[1, 5, 10],\n",
    "              'min_samples_split': [2, 4, 6, 8, 10],\n",
    "              'n_estimators': [100, 150, 200]}"
   ]
  },
  {
   "cell_type": "code",
   "execution_count": 48,
   "metadata": {},
   "outputs": [],
   "source": [
    "clf = GridSearchCV(estimator=rf2, param_grid=param_grid, n_jobs=-1)"
   ]
  },
  {
   "cell_type": "code",
   "execution_count": 49,
   "metadata": {},
   "outputs": [
    {
     "data": {
      "text/plain": [
       "GridSearchCV(cv=None, error_score=nan,\n",
       "             estimator=RandomForestClassifier(bootstrap=True, ccp_alpha=0.0,\n",
       "                                              class_weight=None,\n",
       "                                              criterion='gini', max_depth=None,\n",
       "                                              max_features='auto',\n",
       "                                              max_leaf_nodes=None,\n",
       "                                              max_samples=None,\n",
       "                                              min_impurity_decrease=0.0,\n",
       "                                              min_impurity_split=None,\n",
       "                                              min_samples_leaf=1,\n",
       "                                              min_samples_split=2,\n",
       "                                              min_weight_fraction_leaf=0.0,\n",
       "                                              n_estimators=100, n_jobs=None,\n",
       "                                              oob_score=True, random_state=None,\n",
       "                                              verbose=0, warm_start=False),\n",
       "             iid='deprecated', n_jobs=-1,\n",
       "             param_grid={'criterion': ['gini', 'entropy'],\n",
       "                         'min_samples_leaf': [1, 5, 10],\n",
       "                         'min_samples_split': [2, 4, 6, 8, 10],\n",
       "                         'n_estimators': [100, 150, 200]},\n",
       "             pre_dispatch='2*n_jobs', refit=True, return_train_score=False,\n",
       "             scoring=None, verbose=0)"
      ]
     },
     "execution_count": 49,
     "metadata": {},
     "output_type": "execute_result"
    }
   ],
   "source": [
    "clf.fit(X2_train, y2_train)"
   ]
  },
  {
   "cell_type": "code",
   "execution_count": 52,
   "metadata": {},
   "outputs": [
    {
     "data": {
      "text/plain": [
       "{'criterion': 'entropy',\n",
       " 'min_samples_leaf': 1,\n",
       " 'min_samples_split': 8,\n",
       " 'n_estimators': 150}"
      ]
     },
     "execution_count": 52,
     "metadata": {},
     "output_type": "execute_result"
    }
   ],
   "source": [
    "# best hyperparameters:\n",
    "\n",
    "clf.best_params_"
   ]
  },
  {
   "cell_type": "code",
   "execution_count": 50,
   "metadata": {},
   "outputs": [],
   "source": [
    "# Running Random Forest with the above"
   ]
  },
  {
   "cell_type": "code",
   "execution_count": 54,
   "metadata": {},
   "outputs": [],
   "source": [
    "rf3 = RandomForestClassifier(criterion='entropy', min_samples_leaf=1, min_samples_split=8, \n",
    "                             n_estimators=150, oob_score=True)"
   ]
  },
  {
   "cell_type": "code",
   "execution_count": 55,
   "metadata": {},
   "outputs": [
    {
     "data": {
      "text/plain": [
       "RandomForestClassifier(bootstrap=True, ccp_alpha=0.0, class_weight=None,\n",
       "                       criterion='entropy', max_depth=None, max_features='auto',\n",
       "                       max_leaf_nodes=None, max_samples=None,\n",
       "                       min_impurity_decrease=0.0, min_impurity_split=None,\n",
       "                       min_samples_leaf=1, min_samples_split=8,\n",
       "                       min_weight_fraction_leaf=0.0, n_estimators=150,\n",
       "                       n_jobs=None, oob_score=True, random_state=None,\n",
       "                       verbose=0, warm_start=False)"
      ]
     },
     "execution_count": 55,
     "metadata": {},
     "output_type": "execute_result"
    }
   ],
   "source": [
    "rf3.fit(X2_train, y2_train)"
   ]
  },
  {
   "cell_type": "code",
   "execution_count": 59,
   "metadata": {},
   "outputs": [
    {
     "name": "stdout",
     "output_type": "stream",
     "text": [
      "rf3 training score:  0.9203703703703704\n"
     ]
    }
   ],
   "source": [
    "# training score quite bad with these hyperparameters. strange. \n",
    "\n",
    "print('rf3 training score: ', rf3.score(X2_train, y2_train))"
   ]
  },
  {
   "cell_type": "code",
   "execution_count": 60,
   "metadata": {},
   "outputs": [],
   "source": [
    "y3_pred_rf3 = rf3.predict(X2_test)"
   ]
  },
  {
   "cell_type": "code",
   "execution_count": 61,
   "metadata": {},
   "outputs": [
    {
     "name": "stdout",
     "output_type": "stream",
     "text": [
      "                         precision    recall  f1-score   support\n",
      "\n",
      "             functional       0.79      0.88      0.83      6457\n",
      "functional needs repair       0.54      0.30      0.39       851\n",
      "         non functional       0.82      0.76      0.79      4572\n",
      "\n",
      "               accuracy                           0.79     11880\n",
      "              macro avg       0.72      0.65      0.67     11880\n",
      "           weighted avg       0.78      0.79      0.78     11880\n",
      "\n"
     ]
    }
   ],
   "source": [
    "print(classification_report(y2_test, y3_pred_rf3))"
   ]
  },
  {
   "cell_type": "code",
   "execution_count": 63,
   "metadata": {},
   "outputs": [],
   "source": [
    "# no improvement. what a disappointment"
   ]
  },
  {
   "cell_type": "code",
   "execution_count": 64,
   "metadata": {},
   "outputs": [
    {
     "name": "stdout",
     "output_type": "stream",
     "text": [
      "oob Score:  0.7947811447811448\n"
     ]
    }
   ],
   "source": [
    "print('oob Score: ', rf3.oob_score_)"
   ]
  },
  {
   "cell_type": "code",
   "execution_count": 65,
   "metadata": {},
   "outputs": [],
   "source": [
    "# Confusion Matrix"
   ]
  },
  {
   "cell_type": "code",
   "execution_count": 68,
   "metadata": {},
   "outputs": [],
   "source": [
    "predictions_rf3 = cross_val_predict(rf3, X2_train, y2_train, cv=3)"
   ]
  },
  {
   "cell_type": "code",
   "execution_count": 71,
   "metadata": {},
   "outputs": [
    {
     "data": {
      "text/plain": [
       "array([[22736,   482,  2584],\n",
       "       [ 2011,   881,   574],\n",
       "       [ 4356,   209, 13687]])"
      ]
     },
     "execution_count": 71,
     "metadata": {},
     "output_type": "execute_result"
    }
   ],
   "source": [
    "confusion_matrix(y2_train, predictions_rf3)"
   ]
  },
  {
   "cell_type": "code",
   "execution_count": 79,
   "metadata": {},
   "outputs": [
    {
     "data": {
      "text/plain": [
       "<matplotlib.axes._subplots.AxesSubplot at 0x7fd3e0c4a290>"
      ]
     },
     "execution_count": 79,
     "metadata": {},
     "output_type": "execute_result"
    },
    {
     "data": {
      "image/png": "[encoded data removed]",
      "text/plain": [
       "<Figure size 432x288 with 2 Axes>"
      ]
     },
     "metadata": {
      "needs_background": "light"
     },
     "output_type": "display_data"
    }
   ],
   "source": [
    "skplt.metrics.plot_confusion_matrix(y2_train, predictions_rf3, normalize=True)"
   ]
  },
  {
   "cell_type": "code",
   "execution_count": 80,
   "metadata": {},
   "outputs": [],
   "source": [
    "# Submission"
   ]
  },
  {
   "cell_type": "code",
   "execution_count": 85,
   "metadata": {},
   "outputs": [],
   "source": [
    "X_submission = test_features[['longitude_scaled', 'latitude_scaled', 'gps_height_scaled',\n",
    "       'population_scaled', 'quantity_group_enough', 'waterpoint_type_other',\n",
    "       'amount_tsh_scaled', 'extraction_type_class_other',\n",
    "       'quantity_group_insufficient', 'quantity_group_seasonal',\n",
    "       'payment_type_never pay', 'waterpoint_type_communal standpipe',\n",
    "       'source_type_shallow well', 'source_type_spring',\n",
    "       'extraction_type_class_handpump',\n",
    "       'waterpoint_type_communal standpipe multiple', 'district_code_1',\n",
    "       'quality_group_good', 'waterpoint_type_hand pump',\n",
    "       'quality_group_unknown']].to_numpy()"
   ]
  },
  {
   "cell_type": "code",
   "execution_count": 86,
   "metadata": {},
   "outputs": [],
   "source": [
    "y_pred_submission = rf3.predict(X_submission)"
   ]
  },
  {
   "cell_type": "code",
   "execution_count": 87,
   "metadata": {},
   "outputs": [
    {
     "data": {
      "text/plain": [
       "((14850,), (14850, 85))"
      ]
     },
     "execution_count": 87,
     "metadata": {},
     "output_type": "execute_result"
    }
   ],
   "source": [
    "# no. of predictions match no. of test samples \n",
    "\n",
    "y_pred_submission.shape, test_features.shape"
   ]
  },
  {
   "cell_type": "code",
   "execution_count": 88,
   "metadata": {},
   "outputs": [
    {
     "data": {
      "text/plain": [
       "Int64Index([50785, 51630, 17168, 45559, 49871, 52449, 24806, 28965, 36301,\n",
       "            54122,\n",
       "            ...\n",
       "            59757, 64579, 57731, 65541, 68174, 39307, 18990, 28749, 33492,\n",
       "            68707],\n",
       "           dtype='int64', name='id', length=14850)"
      ]
     },
     "execution_count": 88,
     "metadata": {},
     "output_type": "execute_result"
    }
   ],
   "source": [
    "# list of pump numbers in test set\n",
    "\n",
    "test_features.index"
   ]
  },
  {
   "cell_type": "code",
   "execution_count": 89,
   "metadata": {},
   "outputs": [],
   "source": [
    "submission = pd.DataFrame({'id': test_features.index, 'status_group': y_pred_submission})"
   ]
  },
  {
   "cell_type": "code",
   "execution_count": 90,
   "metadata": {},
   "outputs": [
    {
     "data": {
      "text/html": [
       "<div>\n",
       "<style scoped>\n",
       "    .dataframe tbody tr th:only-of-type {\n",
       "        vertical-align: middle;\n",
       "    }\n",
       "\n",
       "    .dataframe tbody tr th {\n",
       "        vertical-align: top;\n",
       "    }\n",
       "\n",
       "    .dataframe thead th {\n",
       "        text-align: right;\n",
       "    }\n",
       "</style>\n",
       "<table border=\"1\" class=\"dataframe\">\n",
       "  <thead>\n",
       "    <tr style=\"text-align: right;\">\n",
       "      <th></th>\n",
       "      <th>id</th>\n",
       "      <th>status_group</th>\n",
       "    </tr>\n",
       "  </thead>\n",
       "  <tbody>\n",
       "    <tr>\n",
       "      <th>0</th>\n",
       "      <td>50785</td>\n",
       "      <td>non functional</td>\n",
       "    </tr>\n",
       "    <tr>\n",
       "      <th>1</th>\n",
       "      <td>51630</td>\n",
       "      <td>functional</td>\n",
       "    </tr>\n",
       "    <tr>\n",
       "      <th>2</th>\n",
       "      <td>17168</td>\n",
       "      <td>non functional</td>\n",
       "    </tr>\n",
       "    <tr>\n",
       "      <th>3</th>\n",
       "      <td>45559</td>\n",
       "      <td>non functional</td>\n",
       "    </tr>\n",
       "    <tr>\n",
       "      <th>4</th>\n",
       "      <td>49871</td>\n",
       "      <td>functional</td>\n",
       "    </tr>\n",
       "  </tbody>\n",
       "</table>\n",
       "</div>"
      ],
      "text/plain": [
       "      id    status_group\n",
       "0  50785  non functional\n",
       "1  51630      functional\n",
       "2  17168  non functional\n",
       "3  45559  non functional\n",
       "4  49871      functional"
      ]
     },
     "execution_count": 90,
     "metadata": {},
     "output_type": "execute_result"
    }
   ],
   "source": [
    "submission.head()"
   ]
  },
  {
   "cell_type": "code",
   "execution_count": 91,
   "metadata": {},
   "outputs": [
    {
     "data": {
      "text/plain": [
       "functional                 0.632929\n",
       "non functional             0.339259\n",
       "functional needs repair    0.027811\n",
       "Name: status_group, dtype: float64"
      ]
     },
     "execution_count": 91,
     "metadata": {},
     "output_type": "execute_result"
    }
   ],
   "source": [
    "submission.status_group.value_counts(normalize=True)"
   ]
  },
  {
   "cell_type": "code",
   "execution_count": null,
   "metadata": {},
   "outputs": [],
   "source": [
    "# to generate a csv\n",
    "\n",
    "# submission.to_csv('my_submission.csv', index=False)"
   ]
  }
 ],
 "metadata": {
  "kernelspec": {
   "display_name": "Python 3",
   "language": "python",
   "name": "python3"
  },
  "language_info": {
   "codemirror_mode": {
    "name": "ipython",
    "version": 3
   },
   "file_extension": ".py",
   "mimetype": "text/x-python",
   "name": "python",
   "nbconvert_exporter": "python",
   "pygments_lexer": "ipython3",
   "version": "3.7.6"
  }
 },
 "nbformat": 4,
 "nbformat_minor": 4
}
