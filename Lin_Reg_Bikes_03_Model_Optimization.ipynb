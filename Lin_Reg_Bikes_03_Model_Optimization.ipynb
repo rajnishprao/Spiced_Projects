{
 "cells": [
  {
   "cell_type": "code",
   "execution_count": 1,
   "metadata": {},
   "outputs": [],
   "source": [
    "# Capital Bike Share data - Model Optimization"
   ]
  },
  {
   "cell_type": "code",
   "execution_count": 2,
   "metadata": {},
   "outputs": [],
   "source": [
    "import numpy as np\n",
    "\n",
    "import pandas as pd\n",
    "pd.set_option('display.max_rows', 100)\n",
    "pd.set_option('display.max_columns', 100)\n",
    "\n",
    "from matplotlib import pyplot as plt\n",
    "%matplotlib inline\n",
    "import seaborn as sns\n",
    "\n",
    "from sklearn.preprocessing import MinMaxScaler, PolynomialFeatures\n",
    "from sklearn.model_selection import train_test_split, cross_val_score, GridSearchCV\n",
    "from sklearn.linear_model import LinearRegression, Ridge, Lasso, ElasticNet, RidgeCV\n",
    "from sklearn.metrics import mean_squared_error\n",
    "from sklearn.pipeline import make_pipeline"
   ]
  },
  {
   "cell_type": "code",
   "execution_count": 3,
   "metadata": {},
   "outputs": [],
   "source": [
    "train = pd.read_csv('train_bikes.csv', index_col=0, parse_dates=True)\n",
    "test = pd.read_csv('test_bikes.csv', index_col=0, parse_dates=True)"
   ]
  },
  {
   "cell_type": "code",
   "execution_count": 4,
   "metadata": {},
   "outputs": [
    {
     "data": {
      "text/plain": [
       "((10886, 11), (6493, 8))"
      ]
     },
     "execution_count": 4,
     "metadata": {},
     "output_type": "execute_result"
    }
   ],
   "source": [
    "train.shape, test.shape"
   ]
  },
  {
   "cell_type": "code",
   "execution_count": 5,
   "metadata": {},
   "outputs": [],
   "source": [
    "# creating functions for data wrangling/feature engineering train and test datasets \n",
    "\n",
    "# attn: incorporating MinMaxScaler() in the pipelines, so not including in these functions"
   ]
  },
  {
   "cell_type": "code",
   "execution_count": 6,
   "metadata": {},
   "outputs": [],
   "source": [
    "def wrangle_train_data(df):\n",
    "    \n",
    "    # DateTimeIndex-ifying\n",
    "    df['datetime'] = pd.to_datetime(df.index)\n",
    "    df['year'] = pd.DatetimeIndex(df['datetime']).year\n",
    "    df['month'] = pd.DatetimeIndex(df['datetime']).month\n",
    "    df['day'] = pd.DatetimeIndex(df['datetime']).day\n",
    "    df['hour'] = pd.DatetimeIndex(df['datetime']).hour\n",
    "    df = df.drop(['datetime'], axis=1)\n",
    "    \n",
    "    # coercing into categorical datatype\n",
    "    cat_var_list = ['season', 'holiday', 'workingday', 'year', 'month', 'day', 'hour']\n",
    "    for var in cat_var_list:\n",
    "        df[var] = df[var].astype('category')\n",
    "    \n",
    "    # drop columns that are not useful\n",
    "    df = df.drop(['atemp'], axis=1)\n",
    "    df = df.drop(['casual'], axis=1)\n",
    "    df = df.drop(['registered'], axis=1)\n",
    "    df = df.drop(['day'], axis=1)\n",
    "\n",
    "    # outlier removal\n",
    "    df = df[np.abs(df['count'] - df['count'].mean()) <= (3 * df['count'].std())]\n",
    "        \n",
    "    # Binning temp data: into bins of 5 deg (C or F?)\n",
    "    df['binned_temp'] = np.floor(df['temp']) // 5\n",
    "\n",
    "    # Binning hour data: into 6 bins of 4 hours each\n",
    "    df['binned_hour'] = pd.cut(df['hour'], bins=6)\n",
    "\n",
    "    # creating dummies for categorial calues, and dropping original columns \n",
    "    dummy_list = ['season', 'weather', 'workingday', 'holiday', 'binned_temp', 'binned_hour', \n",
    "                  'year', 'month', 'hour']\n",
    "    for dummy in dummy_list:\n",
    "        try:\n",
    "            df = pd.get_dummies(data=df, prefix=dummy_list, columns=dummy_list, drop_first=True)\n",
    "        except: \n",
    "            Exception\n",
    "            continue\n",
    "    return df"
   ]
  },
  {
   "cell_type": "code",
   "execution_count": 7,
   "metadata": {},
   "outputs": [],
   "source": [
    "train = wrangle_train_data(train)"
   ]
  },
  {
   "cell_type": "code",
   "execution_count": 8,
   "metadata": {},
   "outputs": [
    {
     "data": {
      "text/plain": [
       "(10739, 60)"
      ]
     },
     "execution_count": 8,
     "metadata": {},
     "output_type": "execute_result"
    }
   ],
   "source": [
    "train.shape"
   ]
  },
  {
   "cell_type": "code",
   "execution_count": 9,
   "metadata": {},
   "outputs": [
    {
     "data": {
      "text/html": [
       "<div>\n",
       "<style scoped>\n",
       "    .dataframe tbody tr th:only-of-type {\n",
       "        vertical-align: middle;\n",
       "    }\n",
       "\n",
       "    .dataframe tbody tr th {\n",
       "        vertical-align: top;\n",
       "    }\n",
       "\n",
       "    .dataframe thead th {\n",
       "        text-align: right;\n",
       "    }\n",
       "</style>\n",
       "<table border=\"1\" class=\"dataframe\">\n",
       "  <thead>\n",
       "    <tr style=\"text-align: right;\">\n",
       "      <th></th>\n",
       "      <th>temp</th>\n",
       "      <th>humidity</th>\n",
       "      <th>windspeed</th>\n",
       "      <th>count</th>\n",
       "      <th>season_2</th>\n",
       "      <th>season_3</th>\n",
       "      <th>season_4</th>\n",
       "      <th>weather_2</th>\n",
       "      <th>weather_3</th>\n",
       "      <th>weather_4</th>\n",
       "      <th>workingday_1</th>\n",
       "      <th>holiday_1</th>\n",
       "      <th>binned_temp_1.0</th>\n",
       "      <th>binned_temp_2.0</th>\n",
       "      <th>binned_temp_3.0</th>\n",
       "      <th>binned_temp_4.0</th>\n",
       "      <th>binned_temp_5.0</th>\n",
       "      <th>binned_temp_6.0</th>\n",
       "      <th>binned_temp_7.0</th>\n",
       "      <th>binned_temp_8.0</th>\n",
       "      <th>binned_hour_(3.833, 7.667]</th>\n",
       "      <th>binned_hour_(7.667, 11.5]</th>\n",
       "      <th>binned_hour_(11.5, 15.333]</th>\n",
       "      <th>binned_hour_(15.333, 19.167]</th>\n",
       "      <th>binned_hour_(19.167, 23.0]</th>\n",
       "      <th>year_2012</th>\n",
       "      <th>month_2</th>\n",
       "      <th>month_3</th>\n",
       "      <th>month_4</th>\n",
       "      <th>month_5</th>\n",
       "      <th>month_6</th>\n",
       "      <th>month_7</th>\n",
       "      <th>month_8</th>\n",
       "      <th>month_9</th>\n",
       "      <th>month_10</th>\n",
       "      <th>month_11</th>\n",
       "      <th>month_12</th>\n",
       "      <th>hour_1</th>\n",
       "      <th>hour_2</th>\n",
       "      <th>hour_3</th>\n",
       "      <th>hour_4</th>\n",
       "      <th>hour_5</th>\n",
       "      <th>hour_6</th>\n",
       "      <th>hour_7</th>\n",
       "      <th>hour_8</th>\n",
       "      <th>hour_9</th>\n",
       "      <th>hour_10</th>\n",
       "      <th>hour_11</th>\n",
       "      <th>hour_12</th>\n",
       "      <th>hour_13</th>\n",
       "      <th>hour_14</th>\n",
       "      <th>hour_15</th>\n",
       "      <th>hour_16</th>\n",
       "      <th>hour_17</th>\n",
       "      <th>hour_18</th>\n",
       "      <th>hour_19</th>\n",
       "      <th>hour_20</th>\n",
       "      <th>hour_21</th>\n",
       "      <th>hour_22</th>\n",
       "      <th>hour_23</th>\n",
       "    </tr>\n",
       "    <tr>\n",
       "      <th>datetime</th>\n",
       "      <th></th>\n",
       "      <th></th>\n",
       "      <th></th>\n",
       "      <th></th>\n",
       "      <th></th>\n",
       "      <th></th>\n",
       "      <th></th>\n",
       "      <th></th>\n",
       "      <th></th>\n",
       "      <th></th>\n",
       "      <th></th>\n",
       "      <th></th>\n",
       "      <th></th>\n",
       "      <th></th>\n",
       "      <th></th>\n",
       "      <th></th>\n",
       "      <th></th>\n",
       "      <th></th>\n",
       "      <th></th>\n",
       "      <th></th>\n",
       "      <th></th>\n",
       "      <th></th>\n",
       "      <th></th>\n",
       "      <th></th>\n",
       "      <th></th>\n",
       "      <th></th>\n",
       "      <th></th>\n",
       "      <th></th>\n",
       "      <th></th>\n",
       "      <th></th>\n",
       "      <th></th>\n",
       "      <th></th>\n",
       "      <th></th>\n",
       "      <th></th>\n",
       "      <th></th>\n",
       "      <th></th>\n",
       "      <th></th>\n",
       "      <th></th>\n",
       "      <th></th>\n",
       "      <th></th>\n",
       "      <th></th>\n",
       "      <th></th>\n",
       "      <th></th>\n",
       "      <th></th>\n",
       "      <th></th>\n",
       "      <th></th>\n",
       "      <th></th>\n",
       "      <th></th>\n",
       "      <th></th>\n",
       "      <th></th>\n",
       "      <th></th>\n",
       "      <th></th>\n",
       "      <th></th>\n",
       "      <th></th>\n",
       "      <th></th>\n",
       "      <th></th>\n",
       "      <th></th>\n",
       "      <th></th>\n",
       "      <th></th>\n",
       "      <th></th>\n",
       "    </tr>\n",
       "  </thead>\n",
       "  <tbody>\n",
       "    <tr>\n",
       "      <th>2011-01-01</th>\n",
       "      <td>9.84</td>\n",
       "      <td>81</td>\n",
       "      <td>0.0</td>\n",
       "      <td>16</td>\n",
       "      <td>0</td>\n",
       "      <td>0</td>\n",
       "      <td>0</td>\n",
       "      <td>0</td>\n",
       "      <td>0</td>\n",
       "      <td>0</td>\n",
       "      <td>0</td>\n",
       "      <td>0</td>\n",
       "      <td>1</td>\n",
       "      <td>0</td>\n",
       "      <td>0</td>\n",
       "      <td>0</td>\n",
       "      <td>0</td>\n",
       "      <td>0</td>\n",
       "      <td>0</td>\n",
       "      <td>0</td>\n",
       "      <td>0</td>\n",
       "      <td>0</td>\n",
       "      <td>0</td>\n",
       "      <td>0</td>\n",
       "      <td>0</td>\n",
       "      <td>0</td>\n",
       "      <td>0</td>\n",
       "      <td>0</td>\n",
       "      <td>0</td>\n",
       "      <td>0</td>\n",
       "      <td>0</td>\n",
       "      <td>0</td>\n",
       "      <td>0</td>\n",
       "      <td>0</td>\n",
       "      <td>0</td>\n",
       "      <td>0</td>\n",
       "      <td>0</td>\n",
       "      <td>0</td>\n",
       "      <td>0</td>\n",
       "      <td>0</td>\n",
       "      <td>0</td>\n",
       "      <td>0</td>\n",
       "      <td>0</td>\n",
       "      <td>0</td>\n",
       "      <td>0</td>\n",
       "      <td>0</td>\n",
       "      <td>0</td>\n",
       "      <td>0</td>\n",
       "      <td>0</td>\n",
       "      <td>0</td>\n",
       "      <td>0</td>\n",
       "      <td>0</td>\n",
       "      <td>0</td>\n",
       "      <td>0</td>\n",
       "      <td>0</td>\n",
       "      <td>0</td>\n",
       "      <td>0</td>\n",
       "      <td>0</td>\n",
       "      <td>0</td>\n",
       "      <td>0</td>\n",
       "    </tr>\n",
       "  </tbody>\n",
       "</table>\n",
       "</div>"
      ],
      "text/plain": [
       "            temp  humidity  windspeed  count  season_2  season_3  season_4  \\\n",
       "datetime                                                                     \n",
       "2011-01-01  9.84        81        0.0     16         0         0         0   \n",
       "\n",
       "            weather_2  weather_3  weather_4  workingday_1  holiday_1  \\\n",
       "datetime                                                               \n",
       "2011-01-01          0          0          0             0          0   \n",
       "\n",
       "            binned_temp_1.0  binned_temp_2.0  binned_temp_3.0  \\\n",
       "datetime                                                        \n",
       "2011-01-01                1                0                0   \n",
       "\n",
       "            binned_temp_4.0  binned_temp_5.0  binned_temp_6.0  \\\n",
       "datetime                                                        \n",
       "2011-01-01                0                0                0   \n",
       "\n",
       "            binned_temp_7.0  binned_temp_8.0  binned_hour_(3.833, 7.667]  \\\n",
       "datetime                                                                   \n",
       "2011-01-01                0                0                           0   \n",
       "\n",
       "            binned_hour_(7.667, 11.5]  binned_hour_(11.5, 15.333]  \\\n",
       "datetime                                                            \n",
       "2011-01-01                          0                           0   \n",
       "\n",
       "            binned_hour_(15.333, 19.167]  binned_hour_(19.167, 23.0]  \\\n",
       "datetime                                                               \n",
       "2011-01-01                             0                           0   \n",
       "\n",
       "            year_2012  month_2  month_3  month_4  month_5  month_6  month_7  \\\n",
       "datetime                                                                      \n",
       "2011-01-01          0        0        0        0        0        0        0   \n",
       "\n",
       "            month_8  month_9  month_10  month_11  month_12  hour_1  hour_2  \\\n",
       "datetime                                                                     \n",
       "2011-01-01        0        0         0         0         0       0       0   \n",
       "\n",
       "            hour_3  hour_4  hour_5  hour_6  hour_7  hour_8  hour_9  hour_10  \\\n",
       "datetime                                                                      \n",
       "2011-01-01       0       0       0       0       0       0       0        0   \n",
       "\n",
       "            hour_11  hour_12  hour_13  hour_14  hour_15  hour_16  hour_17  \\\n",
       "datetime                                                                    \n",
       "2011-01-01        0        0        0        0        0        0        0   \n",
       "\n",
       "            hour_18  hour_19  hour_20  hour_21  hour_22  hour_23  \n",
       "datetime                                                          \n",
       "2011-01-01        0        0        0        0        0        0  "
      ]
     },
     "execution_count": 9,
     "metadata": {},
     "output_type": "execute_result"
    }
   ],
   "source": [
    "train.head(1)"
   ]
  },
  {
   "cell_type": "code",
   "execution_count": 10,
   "metadata": {},
   "outputs": [],
   "source": [
    "def wrangle_test_data(df):\n",
    "    \n",
    "    # DateTimeIndex-ifying\n",
    "    df['datetime'] = pd.to_datetime(df.index)\n",
    "    df['year'] = pd.DatetimeIndex(df['datetime']).year\n",
    "    df['month'] = pd.DatetimeIndex(df['datetime']).month\n",
    "    df['day'] = pd.DatetimeIndex(df['datetime']).day\n",
    "    df['hour'] = pd.DatetimeIndex(df['datetime']).hour\n",
    "    df = df.drop(['datetime'], axis=1)\n",
    "    \n",
    "    # coercing into categorical datatype\n",
    "    cat_var_list = ['season', 'holiday', 'workingday', 'year', 'month', 'day', 'hour']\n",
    "    for var in cat_var_list:\n",
    "        df[var] = df[var].astype('category')\n",
    "    \n",
    "    # drop columns that are not useful\n",
    "    df = df.drop(['atemp'], axis=1)\n",
    "    df = df.drop(['day'], axis=1)\n",
    "     \n",
    "    # Binning temp data: into bins of 5 deg (C or F?)\n",
    "    df['binned_temp'] = np.floor(df['temp']) // 5\n",
    "\n",
    "    # Binning hour data: into 6 bins of 4 hours each\n",
    "    df['binned_hour'] = pd.cut(df['hour'], bins=6)\n",
    "\n",
    "    # creating dummies for categorial calues, and dropping original columns \n",
    "    dummy_list = ['season', 'weather', 'workingday', 'holiday', 'binned_temp', 'binned_hour', \n",
    "                  'year', 'month', 'hour']\n",
    "    for dummy in dummy_list:\n",
    "        try:\n",
    "            df = pd.get_dummies(data=df, prefix=dummy_list, columns=dummy_list, drop_first=True)\n",
    "        except: \n",
    "            Exception\n",
    "            continue\n",
    "    return df"
   ]
  },
  {
   "cell_type": "code",
   "execution_count": 11,
   "metadata": {},
   "outputs": [],
   "source": [
    "test = wrangle_test_data(test)"
   ]
  },
  {
   "cell_type": "code",
   "execution_count": 12,
   "metadata": {},
   "outputs": [
    {
     "data": {
      "text/plain": [
       "(6493, 59)"
      ]
     },
     "execution_count": 12,
     "metadata": {},
     "output_type": "execute_result"
    }
   ],
   "source": [
    "test.shape"
   ]
  },
  {
   "cell_type": "code",
   "execution_count": 13,
   "metadata": {},
   "outputs": [
    {
     "data": {
      "text/html": [
       "<div>\n",
       "<style scoped>\n",
       "    .dataframe tbody tr th:only-of-type {\n",
       "        vertical-align: middle;\n",
       "    }\n",
       "\n",
       "    .dataframe tbody tr th {\n",
       "        vertical-align: top;\n",
       "    }\n",
       "\n",
       "    .dataframe thead th {\n",
       "        text-align: right;\n",
       "    }\n",
       "</style>\n",
       "<table border=\"1\" class=\"dataframe\">\n",
       "  <thead>\n",
       "    <tr style=\"text-align: right;\">\n",
       "      <th></th>\n",
       "      <th>temp</th>\n",
       "      <th>humidity</th>\n",
       "      <th>windspeed</th>\n",
       "      <th>season_2</th>\n",
       "      <th>season_3</th>\n",
       "      <th>season_4</th>\n",
       "      <th>weather_2</th>\n",
       "      <th>weather_3</th>\n",
       "      <th>weather_4</th>\n",
       "      <th>workingday_1</th>\n",
       "      <th>holiday_1</th>\n",
       "      <th>binned_temp_1.0</th>\n",
       "      <th>binned_temp_2.0</th>\n",
       "      <th>binned_temp_3.0</th>\n",
       "      <th>binned_temp_4.0</th>\n",
       "      <th>binned_temp_5.0</th>\n",
       "      <th>binned_temp_6.0</th>\n",
       "      <th>binned_temp_7.0</th>\n",
       "      <th>binned_temp_8.0</th>\n",
       "      <th>binned_hour_(3.833, 7.667]</th>\n",
       "      <th>binned_hour_(7.667, 11.5]</th>\n",
       "      <th>binned_hour_(11.5, 15.333]</th>\n",
       "      <th>binned_hour_(15.333, 19.167]</th>\n",
       "      <th>binned_hour_(19.167, 23.0]</th>\n",
       "      <th>year_2012</th>\n",
       "      <th>month_2</th>\n",
       "      <th>month_3</th>\n",
       "      <th>month_4</th>\n",
       "      <th>month_5</th>\n",
       "      <th>month_6</th>\n",
       "      <th>month_7</th>\n",
       "      <th>month_8</th>\n",
       "      <th>month_9</th>\n",
       "      <th>month_10</th>\n",
       "      <th>month_11</th>\n",
       "      <th>month_12</th>\n",
       "      <th>hour_1</th>\n",
       "      <th>hour_2</th>\n",
       "      <th>hour_3</th>\n",
       "      <th>hour_4</th>\n",
       "      <th>hour_5</th>\n",
       "      <th>hour_6</th>\n",
       "      <th>hour_7</th>\n",
       "      <th>hour_8</th>\n",
       "      <th>hour_9</th>\n",
       "      <th>hour_10</th>\n",
       "      <th>hour_11</th>\n",
       "      <th>hour_12</th>\n",
       "      <th>hour_13</th>\n",
       "      <th>hour_14</th>\n",
       "      <th>hour_15</th>\n",
       "      <th>hour_16</th>\n",
       "      <th>hour_17</th>\n",
       "      <th>hour_18</th>\n",
       "      <th>hour_19</th>\n",
       "      <th>hour_20</th>\n",
       "      <th>hour_21</th>\n",
       "      <th>hour_22</th>\n",
       "      <th>hour_23</th>\n",
       "    </tr>\n",
       "    <tr>\n",
       "      <th>datetime</th>\n",
       "      <th></th>\n",
       "      <th></th>\n",
       "      <th></th>\n",
       "      <th></th>\n",
       "      <th></th>\n",
       "      <th></th>\n",
       "      <th></th>\n",
       "      <th></th>\n",
       "      <th></th>\n",
       "      <th></th>\n",
       "      <th></th>\n",
       "      <th></th>\n",
       "      <th></th>\n",
       "      <th></th>\n",
       "      <th></th>\n",
       "      <th></th>\n",
       "      <th></th>\n",
       "      <th></th>\n",
       "      <th></th>\n",
       "      <th></th>\n",
       "      <th></th>\n",
       "      <th></th>\n",
       "      <th></th>\n",
       "      <th></th>\n",
       "      <th></th>\n",
       "      <th></th>\n",
       "      <th></th>\n",
       "      <th></th>\n",
       "      <th></th>\n",
       "      <th></th>\n",
       "      <th></th>\n",
       "      <th></th>\n",
       "      <th></th>\n",
       "      <th></th>\n",
       "      <th></th>\n",
       "      <th></th>\n",
       "      <th></th>\n",
       "      <th></th>\n",
       "      <th></th>\n",
       "      <th></th>\n",
       "      <th></th>\n",
       "      <th></th>\n",
       "      <th></th>\n",
       "      <th></th>\n",
       "      <th></th>\n",
       "      <th></th>\n",
       "      <th></th>\n",
       "      <th></th>\n",
       "      <th></th>\n",
       "      <th></th>\n",
       "      <th></th>\n",
       "      <th></th>\n",
       "      <th></th>\n",
       "      <th></th>\n",
       "      <th></th>\n",
       "      <th></th>\n",
       "      <th></th>\n",
       "      <th></th>\n",
       "      <th></th>\n",
       "    </tr>\n",
       "  </thead>\n",
       "  <tbody>\n",
       "    <tr>\n",
       "      <th>2011-01-20</th>\n",
       "      <td>10.66</td>\n",
       "      <td>56</td>\n",
       "      <td>26.0027</td>\n",
       "      <td>0</td>\n",
       "      <td>0</td>\n",
       "      <td>0</td>\n",
       "      <td>0</td>\n",
       "      <td>0</td>\n",
       "      <td>0</td>\n",
       "      <td>1</td>\n",
       "      <td>0</td>\n",
       "      <td>0</td>\n",
       "      <td>1</td>\n",
       "      <td>0</td>\n",
       "      <td>0</td>\n",
       "      <td>0</td>\n",
       "      <td>0</td>\n",
       "      <td>0</td>\n",
       "      <td>0</td>\n",
       "      <td>0</td>\n",
       "      <td>0</td>\n",
       "      <td>0</td>\n",
       "      <td>0</td>\n",
       "      <td>0</td>\n",
       "      <td>0</td>\n",
       "      <td>0</td>\n",
       "      <td>0</td>\n",
       "      <td>0</td>\n",
       "      <td>0</td>\n",
       "      <td>0</td>\n",
       "      <td>0</td>\n",
       "      <td>0</td>\n",
       "      <td>0</td>\n",
       "      <td>0</td>\n",
       "      <td>0</td>\n",
       "      <td>0</td>\n",
       "      <td>0</td>\n",
       "      <td>0</td>\n",
       "      <td>0</td>\n",
       "      <td>0</td>\n",
       "      <td>0</td>\n",
       "      <td>0</td>\n",
       "      <td>0</td>\n",
       "      <td>0</td>\n",
       "      <td>0</td>\n",
       "      <td>0</td>\n",
       "      <td>0</td>\n",
       "      <td>0</td>\n",
       "      <td>0</td>\n",
       "      <td>0</td>\n",
       "      <td>0</td>\n",
       "      <td>0</td>\n",
       "      <td>0</td>\n",
       "      <td>0</td>\n",
       "      <td>0</td>\n",
       "      <td>0</td>\n",
       "      <td>0</td>\n",
       "      <td>0</td>\n",
       "      <td>0</td>\n",
       "    </tr>\n",
       "  </tbody>\n",
       "</table>\n",
       "</div>"
      ],
      "text/plain": [
       "             temp  humidity  windspeed  season_2  season_3  season_4  \\\n",
       "datetime                                                               \n",
       "2011-01-20  10.66        56    26.0027         0         0         0   \n",
       "\n",
       "            weather_2  weather_3  weather_4  workingday_1  holiday_1  \\\n",
       "datetime                                                               \n",
       "2011-01-20          0          0          0             1          0   \n",
       "\n",
       "            binned_temp_1.0  binned_temp_2.0  binned_temp_3.0  \\\n",
       "datetime                                                        \n",
       "2011-01-20                0                1                0   \n",
       "\n",
       "            binned_temp_4.0  binned_temp_5.0  binned_temp_6.0  \\\n",
       "datetime                                                        \n",
       "2011-01-20                0                0                0   \n",
       "\n",
       "            binned_temp_7.0  binned_temp_8.0  binned_hour_(3.833, 7.667]  \\\n",
       "datetime                                                                   \n",
       "2011-01-20                0                0                           0   \n",
       "\n",
       "            binned_hour_(7.667, 11.5]  binned_hour_(11.5, 15.333]  \\\n",
       "datetime                                                            \n",
       "2011-01-20                          0                           0   \n",
       "\n",
       "            binned_hour_(15.333, 19.167]  binned_hour_(19.167, 23.0]  \\\n",
       "datetime                                                               \n",
       "2011-01-20                             0                           0   \n",
       "\n",
       "            year_2012  month_2  month_3  month_4  month_5  month_6  month_7  \\\n",
       "datetime                                                                      \n",
       "2011-01-20          0        0        0        0        0        0        0   \n",
       "\n",
       "            month_8  month_9  month_10  month_11  month_12  hour_1  hour_2  \\\n",
       "datetime                                                                     \n",
       "2011-01-20        0        0         0         0         0       0       0   \n",
       "\n",
       "            hour_3  hour_4  hour_5  hour_6  hour_7  hour_8  hour_9  hour_10  \\\n",
       "datetime                                                                      \n",
       "2011-01-20       0       0       0       0       0       0       0        0   \n",
       "\n",
       "            hour_11  hour_12  hour_13  hour_14  hour_15  hour_16  hour_17  \\\n",
       "datetime                                                                    \n",
       "2011-01-20        0        0        0        0        0        0        0   \n",
       "\n",
       "            hour_18  hour_19  hour_20  hour_21  hour_22  hour_23  \n",
       "datetime                                                          \n",
       "2011-01-20        0        0        0        0        0        0  "
      ]
     },
     "execution_count": 13,
     "metadata": {},
     "output_type": "execute_result"
    }
   ],
   "source": [
    "test.head(1)"
   ]
  },
  {
   "cell_type": "code",
   "execution_count": 14,
   "metadata": {},
   "outputs": [],
   "source": [
    "# Selected features after statistical analysis \n",
    "\n",
    "X = train[['temp','season_2','season_3','season_4','weather_2','weather_3','workingday_1',\n",
    "'humidity','windspeed','binned_temp_1.0','binned_temp_2.0','binned_temp_3.0','binned_temp_4.0',\n",
    "'binned_temp_5.0','binned_hour_(3.833, 7.667]','binned_hour_(7.667, 11.5]','binned_hour_(11.5, 15.333]',\n",
    "'binned_hour_(15.333, 19.167]','binned_hour_(19.167, 23.0]','year_2012','month_2','month_3',\n",
    "'month_5','month_6','month_7','month_8','month_9','month_10','month_11','month_12','hour_1','hour_2','hour_3',\n",
    "'hour_4','hour_5','hour_6','hour_7','hour_8','hour_9','hour_11','hour_12','hour_13','hour_14',\n",
    "'hour_15','hour_16','hour_17','hour_18','hour_19','hour_20','hour_21','hour_22','hour_23']].to_numpy()\n",
    "\n",
    "y = np.log1p(train['count'])"
   ]
  },
  {
   "cell_type": "code",
   "execution_count": 15,
   "metadata": {},
   "outputs": [
    {
     "data": {
      "text/plain": [
       "((10739, 52), (10739,))"
      ]
     },
     "execution_count": 15,
     "metadata": {},
     "output_type": "execute_result"
    }
   ],
   "source": [
    "X.shape, y.shape"
   ]
  },
  {
   "cell_type": "code",
   "execution_count": 16,
   "metadata": {},
   "outputs": [],
   "source": [
    "# Model Comparison "
   ]
  },
  {
   "cell_type": "code",
   "execution_count": 17,
   "metadata": {},
   "outputs": [],
   "source": [
    "# first spliting training data into train and validation sets"
   ]
  },
  {
   "cell_type": "code",
   "execution_count": 18,
   "metadata": {},
   "outputs": [
    {
     "data": {
      "text/plain": [
       "((8591, 52), (2148, 52), (8591,), (2148,))"
      ]
     },
     "execution_count": 18,
     "metadata": {},
     "output_type": "execute_result"
    }
   ],
   "source": [
    "X_train, X_val, y_train, y_val = train_test_split(X, y, test_size=0.2, random_state=42)\n",
    "X_train.shape, X_val.shape, y_train.shape, y_val.shape"
   ]
  },
  {
   "cell_type": "code",
   "execution_count": 19,
   "metadata": {},
   "outputs": [],
   "source": [
    "# comparing LinearRegression (used during Feature Selection) with Ridge, Lasso & Elastic Nets\n",
    "# along with PolynomialFeatures() and MixMaxScaler() in the pipeline function of sklearn"
   ]
  },
  {
   "cell_type": "code",
   "execution_count": 20,
   "metadata": {},
   "outputs": [
    {
     "name": "stdout",
     "output_type": "stream",
     "text": [
      "Linear Regression (training score):  0.9560290433730312\n"
     ]
    }
   ],
   "source": [
    "# Pipe1: Linear Regression\n",
    "\n",
    "pipe1 = make_pipeline(PolynomialFeatures(degree=2), MinMaxScaler(), LinearRegression(n_jobs=-1))\n",
    "\n",
    "pipe1.fit(X_train, y_train)\n",
    "print('Linear Regression (training score): ', pipe1.score(X_train, y_train))"
   ]
  },
  {
   "cell_type": "code",
   "execution_count": 21,
   "metadata": {},
   "outputs": [
    {
     "name": "stdout",
     "output_type": "stream",
     "text": [
      "Ridge (training score):  0.956077422310054\n"
     ]
    }
   ],
   "source": [
    "# Pipe2: Ridge\n",
    "\n",
    "pipe2 = make_pipeline(PolynomialFeatures(degree=2), MinMaxScaler(), Ridge(alpha=0.1))\n",
    "\n",
    "pipe2.fit(X_train, y_train)\n"
   ]
  },
  {
   "cell_type": "code",
   "execution_count": 22,
   "metadata": {},
   "outputs": [
    {
     "name": "stdout",
     "output_type": "stream",
     "text": [
      "Ridge (training score):  0.2269989319339899\n"
     ]
    }
   ],
   "source": [
    "# Pipe3: Lasso\n",
    "\n",
    "pipe3 = make_pipeline(PolynomialFeatures(degree=2), MinMaxScaler(), Lasso(alpha=0.1))\n",
    "\n",
    "pipe3.fit(X_train, y_train)\n",
    "print('Ridge (training score): ', pipe3.score(X_train, y_train))"
   ]
  },
  {
   "cell_type": "code",
   "execution_count": 23,
   "metadata": {},
   "outputs": [
    {
     "name": "stdout",
     "output_type": "stream",
     "text": [
      "Ridge (training score):  0.4906483632547475\n"
     ]
    }
   ],
   "source": [
    "# Pipe4: ElasticNet\n",
    "\n",
    "pipe4 = make_pipeline(PolynomialFeatures(degree=2), MinMaxScaler(), ElasticNet(alpha=0.1))\n",
    "\n",
    "pipe4.fit(X_train, y_train)\n",
    "print('Ridge (training score): ', pipe4.score(X_train, y_train))"
   ]
  },
  {
   "cell_type": "code",
   "execution_count": 24,
   "metadata": {},
   "outputs": [],
   "source": [
    "# Ridge appears to be the best, but strangely not much better than plain old Linear Regression"
   ]
  },
  {
   "cell_type": "code",
   "execution_count": 25,
   "metadata": {},
   "outputs": [
    {
     "name": "stdout",
     "output_type": "stream",
     "text": [
      "MSE Ridge:  0.10408057513532153\n"
     ]
    }
   ],
   "source": [
    "# MSE: cool fairly low\n",
    "\n",
    "y_pred_ridge = pipe2.predict(X_val)\n",
    "print('MSE Ridge: ', mean_squared_error(y_val, y_pred_ridge))"
   ]
  },
  {
   "cell_type": "code",
   "execution_count": 26,
   "metadata": {},
   "outputs": [
    {
     "data": {
      "text/plain": [
       "<matplotlib.collections.PathCollection at 0x7f8d8ffc9f50>"
      ]
     },
     "execution_count": 26,
     "metadata": {},
     "output_type": "execute_result"
    },
    {
     "data": {
      "image/png": "[encoded data removed]",
      "text/plain": [
       "<Figure size 432x288 with 1 Axes>"
      ]
     },
     "metadata": {
      "needs_background": "light"
     },
     "output_type": "display_data"
    }
   ],
   "source": [
    "# seems fairly tight for starters\n",
    "\n",
    "plt.scatter(y_val, y_pred_ridge)"
   ]
  },
  {
   "cell_type": "code",
   "execution_count": 27,
   "metadata": {},
   "outputs": [],
   "source": [
    "# Cross Validation"
   ]
  },
  {
   "cell_type": "code",
   "execution_count": 28,
   "metadata": {},
   "outputs": [
    {
     "name": "stdout",
     "output_type": "stream",
     "text": [
      "Scores_r2: [0.94996467 0.94325159 0.94226051 0.95068238 0.94567324 0.94351932\n",
      " 0.94284831 0.94376814 0.94418811 0.94617692]\n",
      "Mean_r2: 0.9452333188654425\n",
      "STD_r2: 0.0027891206524859468\n"
     ]
    }
   ],
   "source": [
    "# Cross validation: using r2_score (R^2 (coefficient of determination) regression score function.\n",
    "# Best possible score is 1.0 and it can be negative (because the model can be arbitrarily worse). \n",
    "# A constant model that always predicts the expected value of y, disregarding the input features, would get a R^2 score of 0.0 \n",
    "\n",
    "scores_r2 = cross_val_score(pipe2, X_train, y_train, cv=10, scoring='r2')\n",
    "print('Scores_r2:', scores_r2)\n",
    "print('Mean_r2:', scores_r2.mean())\n",
    "print('STD_r2:', scores_r2.std())"
   ]
  },
  {
   "cell_type": "code",
   "execution_count": 29,
   "metadata": {},
   "outputs": [
    {
     "name": "stdout",
     "output_type": "stream",
     "text": [
      "Scores_mse: [-0.10422275 -0.11639284 -0.11742553 -0.09540848 -0.10424193 -0.10440791\n",
      " -0.11478091 -0.10912521 -0.1102052  -0.11813142]\n",
      "Mean_mse: -0.10943421840468193\n",
      "STD_mse: 0.007023575101234331\n"
     ]
    }
   ],
   "source": [
    "# comparing with MSE: attn this metric is the negative of MSE\n",
    "\n",
    "scores_mse = cross_val_score(pipe2, X_train, y_train, cv=10, scoring='neg_mean_squared_error')\n",
    "print('Scores_mse:', scores_mse)\n",
    "print('Mean_mse:', scores_mse.mean())\n",
    "print('STD_mse:', scores_mse.std())"
   ]
  },
  {
   "cell_type": "code",
   "execution_count": 30,
   "metadata": {},
   "outputs": [],
   "source": [
    "# seems fairly consistent for both metrics"
   ]
  },
  {
   "cell_type": "code",
   "execution_count": 31,
   "metadata": {},
   "outputs": [],
   "source": [
    "# Hyperparameter Optimization"
   ]
  },
  {
   "cell_type": "code",
   "execution_count": 32,
   "metadata": {},
   "outputs": [],
   "source": [
    "params = {'polynomialfeatures__degree': [1, 2, 3], \n",
    "          'ridge__alpha': [1.0, 0.1, 0.01, 0.001]}\n",
    "\n",
    "hyp_opt = GridSearchCV(pipe2, params).fit(X_train, y_train)"
   ]
  },
  {
   "cell_type": "code",
   "execution_count": 33,
   "metadata": {},
   "outputs": [
    {
     "data": {
      "text/plain": [
       "{'polynomialfeatures__degree': 2, 'ridge__alpha': 1.0}"
      ]
     },
     "execution_count": 33,
     "metadata": {},
     "output_type": "execute_result"
    }
   ],
   "source": [
    "hyp_opt.best_params_"
   ]
  },
  {
   "cell_type": "code",
   "execution_count": 35,
   "metadata": {},
   "outputs": [],
   "source": [
    "# Rerunning pipe2 with these parameters"
   ]
  },
  {
   "cell_type": "code",
   "execution_count": 36,
   "metadata": {},
   "outputs": [],
   "source": [
    "pipe2 = make_pipeline(PolynomialFeatures(degree=2), MinMaxScaler(), Ridge(alpha=1))"
   ]
  },
  {
   "cell_type": "code",
   "execution_count": 37,
   "metadata": {},
   "outputs": [
    {
     "name": "stdout",
     "output_type": "stream",
     "text": [
      "Ridge (training score, post hyperparam optimization):  0.9556182806264542\n"
     ]
    }
   ],
   "source": [
    "pipe2.fit(X_train, y_train)\n",
    "print('Ridge (training score, post hyperparam optimization): ', pipe2.score(X_train, y_train))"
   ]
  },
  {
   "cell_type": "code",
   "execution_count": null,
   "metadata": {},
   "outputs": [],
   "source": [
    "# no improvement - model already at its best?? "
   ]
  },
  {
   "cell_type": "code",
   "execution_count": 40,
   "metadata": {},
   "outputs": [],
   "source": [
    "# Prediction for final submission"
   ]
  },
  {
   "cell_type": "code",
   "execution_count": 41,
   "metadata": {},
   "outputs": [],
   "source": [
    "X_submission = test[['temp','season_2','season_3','season_4','weather_2','weather_3','workingday_1',\n",
    "'humidity','windspeed','binned_temp_1.0','binned_temp_2.0','binned_temp_3.0','binned_temp_4.0',\n",
    "'binned_temp_5.0','binned_hour_(3.833, 7.667]','binned_hour_(7.667, 11.5]','binned_hour_(11.5, 15.333]',\n",
    "'binned_hour_(15.333, 19.167]','binned_hour_(19.167, 23.0]','year_2012','month_2','month_3',\n",
    "'month_5','month_6','month_7','month_8','month_9','month_10','month_11','month_12','hour_1','hour_2','hour_3',\n",
    "'hour_4','hour_5','hour_6','hour_7','hour_8','hour_9','hour_11','hour_12','hour_13','hour_14',\n",
    "'hour_15','hour_16','hour_17','hour_18','hour_19','hour_20','hour_21','hour_22','hour_23']].to_numpy()"
   ]
  },
  {
   "cell_type": "code",
   "execution_count": 43,
   "metadata": {},
   "outputs": [
    {
     "data": {
      "text/plain": [
       "array([2.4663069 , 1.74228504, 1.35695266, ..., 4.8007694 , 4.63111555,\n",
       "       4.10272181])"
      ]
     },
     "execution_count": 43,
     "metadata": {},
     "output_type": "execute_result"
    }
   ],
   "source": [
    "y_submission = pipe2.predict(X_submission)\n",
    "y_submission"
   ]
  },
  {
   "cell_type": "code",
   "execution_count": 44,
   "metadata": {},
   "outputs": [
    {
     "data": {
      "text/plain": [
       "array([ 10.77886594,   4.71037697,   2.88433835, ..., 120.60394336,\n",
       "       101.6284876 ,  59.50474582])"
      ]
     },
     "execution_count": 44,
     "metadata": {},
     "output_type": "execute_result"
    }
   ],
   "source": [
    "# attn: for final predictive score, inverse np.exp(y)-1 has to be applied!\n",
    "\n",
    "y_final_submission = np.exp(y_submission) - 1\n",
    "y_final_submission"
   ]
  },
  {
   "cell_type": "code",
   "execution_count": 45,
   "metadata": {
    "scrolled": true
   },
   "outputs": [
    {
     "data": {
      "text/plain": [
       "DatetimeIndex(['2011-01-20 00:00:00', '2011-01-20 01:00:00',\n",
       "               '2011-01-20 02:00:00', '2011-01-20 03:00:00',\n",
       "               '2011-01-20 04:00:00', '2011-01-20 05:00:00',\n",
       "               '2011-01-20 06:00:00', '2011-01-20 07:00:00',\n",
       "               '2011-01-20 08:00:00', '2011-01-20 09:00:00',\n",
       "               ...\n",
       "               '2012-12-31 14:00:00', '2012-12-31 15:00:00',\n",
       "               '2012-12-31 16:00:00', '2012-12-31 17:00:00',\n",
       "               '2012-12-31 18:00:00', '2012-12-31 19:00:00',\n",
       "               '2012-12-31 20:00:00', '2012-12-31 21:00:00',\n",
       "               '2012-12-31 22:00:00', '2012-12-31 23:00:00'],\n",
       "              dtype='datetime64[ns]', name='datetime', length=6493, freq=None)"
      ]
     },
     "execution_count": 45,
     "metadata": {},
     "output_type": "execute_result"
    }
   ],
   "source": [
    "test.index"
   ]
  },
  {
   "cell_type": "code",
   "execution_count": null,
   "metadata": {},
   "outputs": [],
   "source": [
    "# to create the submission file\n",
    "# my_submission = pd.DataFrame({'id': test.index, 'count': y_final_submission})\n",
    "# my_submission.to_csv('submission.cvs', index=False)"
   ]
  }
 ],
 "metadata": {
  "kernelspec": {
   "display_name": "Python 3",
   "language": "python",
   "name": "python3"
  },
  "language_info": {
   "codemirror_mode": {
    "name": "ipython",
    "version": 3
   },
   "file_extension": ".py",
   "mimetype": "text/x-python",
   "name": "python",
   "nbconvert_exporter": "python",
   "pygments_lexer": "ipython3",
   "version": "3.7.6"
  }
 },
 "nbformat": 4,
 "nbformat_minor": 4
}
