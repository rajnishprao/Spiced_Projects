{
 "cells": [
  {
   "cell_type": "code",
   "execution_count": 77,
   "metadata": {},
   "outputs": [],
   "source": [
    "# adding jerk features to stat features"
   ]
  },
  {
   "cell_type": "code",
   "execution_count": 2,
   "metadata": {},
   "outputs": [],
   "source": [
    "import numpy as np\n",
    "\n",
    "from sklearn import preprocessing, svm\n",
    "from sklearn.metrics import confusion_matrix, classification_report, f1_score\n",
    "import matplotlib.pyplot as plt\n",
    "\n",
    "import scipy.stats as st\n",
    "from scipy.fftpack import fft, fftfreq\n",
    "from scipy.signal import argrelextrema\n",
    "import operator"
   ]
  },
  {
   "cell_type": "code",
   "execution_count": 3,
   "metadata": {},
   "outputs": [],
   "source": [
    "# load body acceleration raw signals \n",
    "# x axis\n",
    "bx_train = np.loadtxt('./HARDataset/train/Inertial Signals/body_acc_x_train.txt')\n",
    "bx_test = np.loadtxt('./HARDataset/test/Inertial Signals/body_acc_x_test.txt')\n",
    "# y axis\n",
    "by_train = np.loadtxt('./HARDataset/train/Inertial Signals/body_acc_y_train.txt')\n",
    "by_test = np.loadtxt('./HARDataset/test/Inertial Signals/body_acc_y_test.txt')\n",
    "# z axis\n",
    "bz_train = np.loadtxt('./HARDataset/train/Inertial Signals/body_acc_z_train.txt')\n",
    "bz_test = np.loadtxt('./HARDataset/test/Inertial Signals/body_acc_z_test.txt')"
   ]
  },
  {
   "cell_type": "code",
   "execution_count": 4,
   "metadata": {},
   "outputs": [],
   "source": [
    "# load total acceleration raw signals \n",
    "# x axis\n",
    "tx_train = np.loadtxt('./HARDataset/train/Inertial Signals/total_acc_x_train.txt')\n",
    "tx_test = np.loadtxt('./HARDataset/test/Inertial Signals/total_acc_x_test.txt')\n",
    "# y axis\n",
    "ty_train = np.loadtxt('./HARDataset/train/Inertial Signals/total_acc_y_train.txt')\n",
    "ty_test = np.loadtxt('./HARDataset/test/Inertial Signals/total_acc_y_test.txt')\n",
    "# z axis\n",
    "tz_train = np.loadtxt('./HARDataset/train/Inertial Signals/total_acc_z_train.txt')\n",
    "tz_test = np.loadtxt('./HARDataset/test/Inertial Signals/total_acc_z_test.txt')"
   ]
  },
  {
   "cell_type": "code",
   "execution_count": 5,
   "metadata": {},
   "outputs": [],
   "source": [
    "# load body gyroscope raw signals \n",
    "# x axis\n",
    "gx_train = np.loadtxt('./HARDataset/train/Inertial Signals/body_gyro_x_train.txt')\n",
    "gx_test = np.loadtxt('./HARDataset/test/Inertial Signals/body_gyro_x_test.txt')\n",
    "# y axis\n",
    "gy_train = np.loadtxt('./HARDataset/train/Inertial Signals/body_gyro_y_train.txt')\n",
    "gy_test = np.loadtxt('./HARDataset/test/Inertial Signals/body_gyro_y_test.txt')\n",
    "# z axis\n",
    "gz_train = np.loadtxt('./HARDataset/train/Inertial Signals/body_gyro_z_train.txt')\n",
    "gz_test = np.loadtxt('./HARDataset/test/Inertial Signals/body_gyro_z_test.txt')"
   ]
  },
  {
   "cell_type": "code",
   "execution_count": 6,
   "metadata": {},
   "outputs": [
    {
     "data": {
      "text/plain": [
       "((7352, 128), (2947, 128))"
      ]
     },
     "execution_count": 6,
     "metadata": {},
     "output_type": "execute_result"
    }
   ],
   "source": [
    "bx_train.shape, bx_test.shape"
   ]
  },
  {
   "cell_type": "code",
   "execution_count": 7,
   "metadata": {},
   "outputs": [
    {
     "data": {
      "text/plain": [
       "((7352, 128), (2947, 128))"
      ]
     },
     "execution_count": 7,
     "metadata": {},
     "output_type": "execute_result"
    }
   ],
   "source": [
    "tx_train.shape, tx_test.shape"
   ]
  },
  {
   "cell_type": "code",
   "execution_count": 8,
   "metadata": {},
   "outputs": [
    {
     "data": {
      "text/plain": [
       "((7352, 128), (2947, 128))"
      ]
     },
     "execution_count": 8,
     "metadata": {},
     "output_type": "execute_result"
    }
   ],
   "source": [
    "gx_train.shape, gx_test.shape"
   ]
  },
  {
   "cell_type": "code",
   "execution_count": 9,
   "metadata": {},
   "outputs": [],
   "source": [
    "# load label vectors\n",
    "y_train = np.loadtxt('./HARDataset/train/y_train.txt')\n",
    "y_test = np.loadtxt('./HARDataset/test/y_test.txt')"
   ]
  },
  {
   "cell_type": "code",
   "execution_count": 10,
   "metadata": {},
   "outputs": [
    {
     "data": {
      "text/plain": [
       "((7352,), (2947,))"
      ]
     },
     "execution_count": 10,
     "metadata": {},
     "output_type": "execute_result"
    }
   ],
   "source": [
    "y_train.shape, y_test.shape"
   ]
  },
  {
   "cell_type": "code",
   "execution_count": 11,
   "metadata": {},
   "outputs": [],
   "source": [
    "label_names = ['Walking', 'Walking upstairs', 'Walking downstairs', 'Sitting', 'Standing', 'Laying']"
   ]
  },
  {
   "cell_type": "code",
   "execution_count": 12,
   "metadata": {},
   "outputs": [],
   "source": [
    "def stat_area_features(x, Te=1.0):\n",
    "    # mean\n",
    "    mean_ts = np.mean(x, axis=1).reshape(-1, 1)\n",
    "    # max\n",
    "    max_ts = np.amax(x, axis=1).reshape(-1, 1)\n",
    "    # min\n",
    "    min_ts = np.amin(x, axis=1).reshape(-1, 1)\n",
    "    # std\n",
    "    std_ts = np.std(x, axis=1).reshape(-1, 1)\n",
    "    # skew\n",
    "    skew_ts = st.skew(x, axis=1).reshape(-1, 1)\n",
    "    # kurtosis\n",
    "    kurtosis_ts = st.kurtosis(x, axis=1).reshape(-1, 1)\n",
    "    # interquartile range\n",
    "    iqr_ts = st.iqr(x, axis=1).reshape(-1, 1)\n",
    "    # median absolute deviation\n",
    "    mad_ts = np.median(np.sort(abs(x - np.mean(x, axis=1).reshape(-1, 1)), axis=1), axis=1).reshape(-1, 1)\n",
    "    # area under curve\n",
    "    area_ts = np.trapz(x, axis=1, dx=Te).reshape(-1, 1)\n",
    "    # area under curve ** 2\n",
    "    sq_area_ts = np.trapz(x ** 2, axis=1, dx=Te).reshape(-1, 1)\n",
    "    \n",
    "    return np.concatenate((mean_ts, max_ts, min_ts, std_ts, skew_ts, kurtosis_ts, iqr_ts, \n",
    "                           mad_ts, area_ts, sq_area_ts), axis=1)"
   ]
  },
  {
   "cell_type": "code",
   "execution_count": 13,
   "metadata": {},
   "outputs": [],
   "source": [
    "# stats for train data"
   ]
  },
  {
   "cell_type": "code",
   "execution_count": 18,
   "metadata": {},
   "outputs": [],
   "source": [
    "bx_train_stats = stat_area_features(bx_train)\n",
    "by_train_stats = stat_area_features(by_train)\n",
    "bz_train_stats = stat_area_features(bz_train)"
   ]
  },
  {
   "cell_type": "code",
   "execution_count": 19,
   "metadata": {},
   "outputs": [
    {
     "data": {
      "text/plain": [
       "((7352, 10), (7352, 10), (7352, 10))"
      ]
     },
     "execution_count": 19,
     "metadata": {},
     "output_type": "execute_result"
    }
   ],
   "source": [
    "bx_train_stats.shape, by_train_stats.shape, bz_train_stats.shape"
   ]
  },
  {
   "cell_type": "code",
   "execution_count": 20,
   "metadata": {},
   "outputs": [],
   "source": [
    "tx_train_stats = stat_area_features(tx_train)\n",
    "ty_train_stats = stat_area_features(ty_train)\n",
    "tz_train_stats = stat_area_features(tz_train)"
   ]
  },
  {
   "cell_type": "code",
   "execution_count": 21,
   "metadata": {},
   "outputs": [
    {
     "data": {
      "text/plain": [
       "((7352, 10), (7352, 10), (7352, 10))"
      ]
     },
     "execution_count": 21,
     "metadata": {},
     "output_type": "execute_result"
    }
   ],
   "source": [
    "tx_train_stats.shape, ty_train_stats.shape, tz_train_stats.shape"
   ]
  },
  {
   "cell_type": "code",
   "execution_count": 22,
   "metadata": {},
   "outputs": [],
   "source": [
    "gx_train_stats = stat_area_features(gx_train)\n",
    "gy_train_stats = stat_area_features(gy_train)\n",
    "gz_train_stats = stat_area_features(gz_train)"
   ]
  },
  {
   "cell_type": "code",
   "execution_count": 23,
   "metadata": {},
   "outputs": [
    {
     "data": {
      "text/plain": [
       "((7352, 10), (7352, 10), (7352, 10))"
      ]
     },
     "execution_count": 23,
     "metadata": {},
     "output_type": "execute_result"
    }
   ],
   "source": [
    "gx_train_stats.shape, gy_train_stats.shape, gz_train_stats.shape"
   ]
  },
  {
   "cell_type": "code",
   "execution_count": 20,
   "metadata": {},
   "outputs": [],
   "source": [
    "# stats for test data"
   ]
  },
  {
   "cell_type": "code",
   "execution_count": 26,
   "metadata": {},
   "outputs": [],
   "source": [
    "bx_test_stats = stat_area_features(bx_test)\n",
    "by_test_stats = stat_area_features(by_test)\n",
    "bz_test_stats = stat_area_features(bz_test)"
   ]
  },
  {
   "cell_type": "code",
   "execution_count": 27,
   "metadata": {},
   "outputs": [
    {
     "data": {
      "text/plain": [
       "((2947, 10), (2947, 10), (2947, 10))"
      ]
     },
     "execution_count": 27,
     "metadata": {},
     "output_type": "execute_result"
    }
   ],
   "source": [
    "bx_test_stats.shape, by_test_stats.shape, bz_test_stats.shape"
   ]
  },
  {
   "cell_type": "code",
   "execution_count": 28,
   "metadata": {},
   "outputs": [],
   "source": [
    "tx_test_stats = stat_area_features(tx_test)\n",
    "ty_test_stats = stat_area_features(ty_test)\n",
    "tz_test_stats = stat_area_features(tz_test)"
   ]
  },
  {
   "cell_type": "code",
   "execution_count": 29,
   "metadata": {},
   "outputs": [
    {
     "data": {
      "text/plain": [
       "((2947, 10), (2947, 10), (2947, 10))"
      ]
     },
     "execution_count": 29,
     "metadata": {},
     "output_type": "execute_result"
    }
   ],
   "source": [
    "tx_test_stats.shape, ty_test_stats.shape, tz_test_stats.shape"
   ]
  },
  {
   "cell_type": "code",
   "execution_count": 30,
   "metadata": {},
   "outputs": [],
   "source": [
    "gx_test_stats = stat_area_features(gx_test)\n",
    "gy_test_stats = stat_area_features(gy_test)\n",
    "gz_test_stats = stat_area_features(gz_test)"
   ]
  },
  {
   "cell_type": "code",
   "execution_count": 31,
   "metadata": {},
   "outputs": [
    {
     "data": {
      "text/plain": [
       "((2947, 10), (2947, 10), (2947, 10))"
      ]
     },
     "execution_count": 31,
     "metadata": {},
     "output_type": "execute_result"
    }
   ],
   "source": [
    "gx_test_stats.shape, gy_test_stats.shape, gz_test_stats.shape"
   ]
  },
  {
   "cell_type": "code",
   "execution_count": 13,
   "metadata": {},
   "outputs": [],
   "source": [
    "# jerk for train data"
   ]
  },
  {
   "cell_type": "code",
   "execution_count": 34,
   "metadata": {},
   "outputs": [],
   "source": [
    "bx_train_jerk = stat_area_features((bx_train[:, 1:] - bx_train[:, :-1])/1.0)\n",
    "by_train_jerk = stat_area_features((by_train[:, 1:] - by_train[:, :-1])/1.0)\n",
    "bz_train_jerk = stat_area_features((bz_train[:, 1:] - bz_train[:, :-1])/1.0)"
   ]
  },
  {
   "cell_type": "code",
   "execution_count": 35,
   "metadata": {},
   "outputs": [
    {
     "data": {
      "text/plain": [
       "((7352, 10), (7352, 10), (7352, 10))"
      ]
     },
     "execution_count": 35,
     "metadata": {},
     "output_type": "execute_result"
    }
   ],
   "source": [
    "bx_train_jerk.shape, by_train_jerk.shape, bz_train_jerk.shape"
   ]
  },
  {
   "cell_type": "code",
   "execution_count": 36,
   "metadata": {},
   "outputs": [],
   "source": [
    "tx_train_jerk = stat_area_features((tx_train[:, 1:] - tx_train[:, :-1])/1.0)\n",
    "ty_train_jerk = stat_area_features((ty_train[:, 1:] - ty_train[:, :-1])/1.0)\n",
    "tz_train_jerk = stat_area_features((tz_train[:, 1:] - tz_train[:, :-1])/1.0)"
   ]
  },
  {
   "cell_type": "code",
   "execution_count": 37,
   "metadata": {},
   "outputs": [
    {
     "data": {
      "text/plain": [
       "((7352, 10), (7352, 10), (7352, 10))"
      ]
     },
     "execution_count": 37,
     "metadata": {},
     "output_type": "execute_result"
    }
   ],
   "source": [
    "tx_train_jerk.shape, ty_train_jerk.shape, tz_train_jerk.shape"
   ]
  },
  {
   "cell_type": "code",
   "execution_count": 38,
   "metadata": {},
   "outputs": [],
   "source": [
    "gx_train_jerk = stat_area_features((gx_train[:, 1:] - gx_train[:, :-1])/1.0)\n",
    "gy_train_jerk = stat_area_features((gy_train[:, 1:] - gy_train[:, :-1])/1.0)\n",
    "gz_train_jerk = stat_area_features((gz_train[:, 1:] - gz_train[:, :-1])/1.0)"
   ]
  },
  {
   "cell_type": "code",
   "execution_count": 39,
   "metadata": {},
   "outputs": [
    {
     "data": {
      "text/plain": [
       "((7352, 10), (7352, 10), (7352, 10))"
      ]
     },
     "execution_count": 39,
     "metadata": {},
     "output_type": "execute_result"
    }
   ],
   "source": [
    "gx_train_jerk.shape, gy_train_jerk.shape, gz_train_jerk.shape"
   ]
  },
  {
   "cell_type": "code",
   "execution_count": 20,
   "metadata": {},
   "outputs": [],
   "source": [
    "# jerk for test data"
   ]
  },
  {
   "cell_type": "code",
   "execution_count": 40,
   "metadata": {},
   "outputs": [],
   "source": [
    "bx_test_jerk = stat_area_features((bx_test[:, 1:] - bx_test[:, :-1])/1.0)\n",
    "by_test_jerk = stat_area_features((by_test[:, 1:] - by_test[:, :-1])/1.0)\n",
    "bz_test_jerk = stat_area_features((bz_test[:, 1:] - bz_test[:, :-1])/1.0)"
   ]
  },
  {
   "cell_type": "code",
   "execution_count": 41,
   "metadata": {},
   "outputs": [
    {
     "data": {
      "text/plain": [
       "((2947, 10), (2947, 10), (2947, 10))"
      ]
     },
     "execution_count": 41,
     "metadata": {},
     "output_type": "execute_result"
    }
   ],
   "source": [
    "bx_test_jerk.shape, by_test_jerk.shape, bz_test_jerk.shape"
   ]
  },
  {
   "cell_type": "code",
   "execution_count": 42,
   "metadata": {},
   "outputs": [],
   "source": [
    "tx_test_jerk = stat_area_features((tx_test[:, 1:] - tx_test[:, :-1])/1.0)\n",
    "ty_test_jerk = stat_area_features((ty_test[:, 1:] - ty_test[:, :-1])/1.0)\n",
    "tz_test_jerk = stat_area_features((tz_test[:, 1:] - tz_test[:, :-1])/1.0)"
   ]
  },
  {
   "cell_type": "code",
   "execution_count": 43,
   "metadata": {},
   "outputs": [
    {
     "data": {
      "text/plain": [
       "((2947, 10), (2947, 10), (2947, 10))"
      ]
     },
     "execution_count": 43,
     "metadata": {},
     "output_type": "execute_result"
    }
   ],
   "source": [
    "tx_test_jerk.shape, ty_test_jerk.shape, tz_test_jerk.shape"
   ]
  },
  {
   "cell_type": "code",
   "execution_count": 44,
   "metadata": {},
   "outputs": [],
   "source": [
    "gx_test_jerk = stat_area_features((gx_test[:, 1:] - gx_test[:, :-1])/1.0)\n",
    "gy_test_jerk = stat_area_features((gy_test[:, 1:] - gy_test[:, :-1])/1.0)\n",
    "gz_test_jerk = stat_area_features((gz_test[:, 1:] - gz_test[:, :-1])/1.0)"
   ]
  },
  {
   "cell_type": "code",
   "execution_count": 45,
   "metadata": {},
   "outputs": [
    {
     "data": {
      "text/plain": [
       "((2947, 10), (2947, 10), (2947, 10))"
      ]
     },
     "execution_count": 45,
     "metadata": {},
     "output_type": "execute_result"
    }
   ],
   "source": [
    "gx_test_jerk.shape, gy_test_jerk.shape, gz_test_jerk.shape"
   ]
  },
  {
   "cell_type": "code",
   "execution_count": null,
   "metadata": {},
   "outputs": [],
   "source": []
  },
  {
   "cell_type": "code",
   "execution_count": 53,
   "metadata": {},
   "outputs": [],
   "source": [
    "# def frequency_domain_features(x, Te=1.0):\n",
    "    \n",
    "#     # figuring out scipy fft, fftfreq\n",
    "#     # also figuring out jerk signal derivative at end of previous notebook\n",
    "#     # Te bit just ain't working - not clear why\n",
    "    \n",
    "#     # as DFT coefficients and their corresponding frequencies are symetrical arrays with respect to\n",
    "#     # the middle of the array, need to control for whether samples in x are odd or even to then split arrays\n",
    "#     if x.shape[1]%2 == 0:\n",
    "#         N = int(x.shape[1]/2)\n",
    "#     else: \n",
    "#         N = int(x.shape[1]/2) - 1\n",
    "#     xf = np.repeat_\n",
    "    "
   ]
  },
  {
   "cell_type": "code",
   "execution_count": 28,
   "metadata": {},
   "outputs": [],
   "source": [
    "# creating X_train and X_test "
   ]
  },
  {
   "cell_type": "code",
   "execution_count": 46,
   "metadata": {},
   "outputs": [],
   "source": [
    "X_train = np.concatenate((bx_train_stats, by_train_stats, bz_train_stats, \n",
    "                          tx_train_stats, ty_train_stats, tz_train_stats, \n",
    "                          gx_train_stats, gy_train_stats, gz_train_stats, \n",
    "                          bx_train_jerk, by_train_jerk, bz_train_jerk, \n",
    "                          tx_train_jerk, ty_train_jerk, tz_train_jerk, \n",
    "                          gx_train_jerk, gy_train_jerk, gz_train_jerk), axis=1)"
   ]
  },
  {
   "cell_type": "code",
   "execution_count": 47,
   "metadata": {},
   "outputs": [],
   "source": [
    "X_test = np.concatenate((bx_test_stats, by_test_stats, bz_test_stats, \n",
    "                          tx_test_stats, ty_test_stats, tz_test_stats, \n",
    "                          gx_test_stats, gy_test_stats, gz_test_stats,\n",
    "                          bx_test_jerk, by_test_jerk, bz_test_jerk, \n",
    "                          tx_test_jerk, ty_test_jerk, tz_test_jerk, \n",
    "                          gx_test_jerk, gy_test_jerk, gz_test_jerk), axis=1)"
   ]
  },
  {
   "cell_type": "code",
   "execution_count": 48,
   "metadata": {},
   "outputs": [
    {
     "data": {
      "text/plain": [
       "((7352, 180), (2947, 180))"
      ]
     },
     "execution_count": 48,
     "metadata": {},
     "output_type": "execute_result"
    }
   ],
   "source": [
    "X_train.shape, X_test.shape"
   ]
  },
  {
   "cell_type": "code",
   "execution_count": 49,
   "metadata": {},
   "outputs": [],
   "source": [
    "# scaling data makes big differnce! to all! "
   ]
  },
  {
   "cell_type": "code",
   "execution_count": 50,
   "metadata": {},
   "outputs": [],
   "source": [
    "from sklearn.preprocessing import StandardScaler"
   ]
  },
  {
   "cell_type": "code",
   "execution_count": 51,
   "metadata": {},
   "outputs": [],
   "source": [
    "scaler = StandardScaler()\n",
    "X_train = scaler.fit_transform(X_train)\n",
    "X_test = scaler.fit_transform(X_test)"
   ]
  },
  {
   "cell_type": "code",
   "execution_count": 52,
   "metadata": {},
   "outputs": [],
   "source": [
    "#can one do a simple log reg first?\n",
    "from sklearn.linear_model import LogisticRegression"
   ]
  },
  {
   "cell_type": "code",
   "execution_count": 53,
   "metadata": {},
   "outputs": [],
   "source": [
    "logreg = LogisticRegression()"
   ]
  },
  {
   "cell_type": "code",
   "execution_count": 54,
   "metadata": {},
   "outputs": [
    {
     "name": "stderr",
     "output_type": "stream",
     "text": [
      "/opt/anaconda3/lib/python3.7/site-packages/sklearn/linear_model/_logistic.py:940: ConvergenceWarning: lbfgs failed to converge (status=1):\n",
      "STOP: TOTAL NO. of ITERATIONS REACHED LIMIT.\n",
      "\n",
      "Increase the number of iterations (max_iter) or scale the data as shown in:\n",
      "    https://scikit-learn.org/stable/modules/preprocessing.html\n",
      "Please also refer to the documentation for alternative solver options:\n",
      "    https://scikit-learn.org/stable/modules/linear_model.html#logistic-regression\n",
      "  extra_warning_msg=_LOGISTIC_SOLVER_CONVERGENCE_MSG)\n"
     ]
    },
    {
     "data": {
      "text/plain": [
       "LogisticRegression(C=1.0, class_weight=None, dual=False, fit_intercept=True,\n",
       "                   intercept_scaling=1, l1_ratio=None, max_iter=100,\n",
       "                   multi_class='auto', n_jobs=None, penalty='l2',\n",
       "                   random_state=None, solver='lbfgs', tol=0.0001, verbose=0,\n",
       "                   warm_start=False)"
      ]
     },
     "execution_count": 54,
     "metadata": {},
     "output_type": "execute_result"
    }
   ],
   "source": [
    "logreg.fit(X_train, y_train)"
   ]
  },
  {
   "cell_type": "code",
   "execution_count": 56,
   "metadata": {},
   "outputs": [
    {
     "data": {
      "text/plain": [
       "0.970076169749728"
      ]
     },
     "execution_count": 56,
     "metadata": {},
     "output_type": "execute_result"
    }
   ],
   "source": [
    "logreg.score(X_train, y_train) # adding jerk: 0.95 to 0.97"
   ]
  },
  {
   "cell_type": "code",
   "execution_count": 57,
   "metadata": {},
   "outputs": [],
   "source": [
    "y_pred_logreg = logreg.predict(X_test)"
   ]
  },
  {
   "cell_type": "code",
   "execution_count": 59,
   "metadata": {},
   "outputs": [
    {
     "name": "stdout",
     "output_type": "stream",
     "text": [
      "              precision    recall  f1-score   support\n",
      "\n",
      "         1.0       0.92      0.90      0.91       496\n",
      "         2.0       0.96      0.91      0.94       471\n",
      "         3.0       0.88      0.96      0.92       420\n",
      "         4.0       0.87      0.91      0.89       491\n",
      "         5.0       0.92      0.88      0.90       532\n",
      "         6.0       1.00      0.99      1.00       537\n",
      "\n",
      "    accuracy                           0.93      2947\n",
      "   macro avg       0.92      0.93      0.92      2947\n",
      "weighted avg       0.93      0.93      0.93      2947\n",
      "\n"
     ]
    }
   ],
   "source": [
    "print(classification_report(y_test, y_pred_logreg)) # adding jerk accuracy: 0.87 to 0.93"
   ]
  },
  {
   "cell_type": "code",
   "execution_count": 62,
   "metadata": {},
   "outputs": [],
   "source": [
    "from sklearn import svm\n",
    "\n",
    "svm = svm.SVC()"
   ]
  },
  {
   "cell_type": "code",
   "execution_count": 63,
   "metadata": {},
   "outputs": [
    {
     "data": {
      "text/plain": [
       "SVC(C=1.0, break_ties=False, cache_size=200, class_weight=None, coef0=0.0,\n",
       "    decision_function_shape='ovr', degree=3, gamma='scale', kernel='rbf',\n",
       "    max_iter=-1, probability=False, random_state=None, shrinking=True,\n",
       "    tol=0.001, verbose=False)"
      ]
     },
     "execution_count": 63,
     "metadata": {},
     "output_type": "execute_result"
    }
   ],
   "source": [
    "svm.fit(X_train, y_train)"
   ]
  },
  {
   "cell_type": "code",
   "execution_count": 65,
   "metadata": {},
   "outputs": [
    {
     "data": {
      "text/plain": [
       "0.9635473340587595"
      ]
     },
     "execution_count": 65,
     "metadata": {},
     "output_type": "execute_result"
    }
   ],
   "source": [
    "svm.score(X_train, y_train) # adding jerk 0.95 to 0.96"
   ]
  },
  {
   "cell_type": "code",
   "execution_count": 66,
   "metadata": {},
   "outputs": [],
   "source": [
    "y_pred_svm = svm.predict(X_test)"
   ]
  },
  {
   "cell_type": "code",
   "execution_count": 67,
   "metadata": {},
   "outputs": [
    {
     "name": "stdout",
     "output_type": "stream",
     "text": [
      "              precision    recall  f1-score   support\n",
      "\n",
      "         1.0       0.93      0.93      0.93       496\n",
      "         2.0       0.99      0.95      0.97       471\n",
      "         3.0       0.92      0.96      0.94       420\n",
      "         4.0       0.83      0.81      0.82       491\n",
      "         5.0       0.84      0.84      0.84       532\n",
      "         6.0       0.98      1.00      0.99       537\n",
      "\n",
      "    accuracy                           0.91      2947\n",
      "   macro avg       0.91      0.91      0.91      2947\n",
      "weighted avg       0.91      0.91      0.91      2947\n",
      "\n"
     ]
    }
   ],
   "source": [
    "print(classification_report(y_test, y_pred_svm)) # adding jerk accuracy 0.88 to 0.91 "
   ]
  },
  {
   "cell_type": "code",
   "execution_count": 68,
   "metadata": {},
   "outputs": [],
   "source": [
    "from sklearn.ensemble import RandomForestClassifier"
   ]
  },
  {
   "cell_type": "code",
   "execution_count": 69,
   "metadata": {},
   "outputs": [],
   "source": [
    "rfc = RandomForestClassifier()"
   ]
  },
  {
   "cell_type": "code",
   "execution_count": 70,
   "metadata": {},
   "outputs": [
    {
     "data": {
      "text/plain": [
       "RandomForestClassifier(bootstrap=True, ccp_alpha=0.0, class_weight=None,\n",
       "                       criterion='gini', max_depth=None, max_features='auto',\n",
       "                       max_leaf_nodes=None, max_samples=None,\n",
       "                       min_impurity_decrease=0.0, min_impurity_split=None,\n",
       "                       min_samples_leaf=1, min_samples_split=2,\n",
       "                       min_weight_fraction_leaf=0.0, n_estimators=100,\n",
       "                       n_jobs=None, oob_score=False, random_state=None,\n",
       "                       verbose=0, warm_start=False)"
      ]
     },
     "execution_count": 70,
     "metadata": {},
     "output_type": "execute_result"
    }
   ],
   "source": [
    "rfc.fit(X_train, y_train)"
   ]
  },
  {
   "cell_type": "code",
   "execution_count": 72,
   "metadata": {},
   "outputs": [
    {
     "data": {
      "text/plain": [
       "1.0"
      ]
     },
     "execution_count": 72,
     "metadata": {},
     "output_type": "execute_result"
    }
   ],
   "source": [
    "rfc.score(X_train, y_train) # 1.0 already without jerk "
   ]
  },
  {
   "cell_type": "code",
   "execution_count": 73,
   "metadata": {},
   "outputs": [],
   "source": [
    "y_pred_rfc = rfc.predict(X_test)"
   ]
  },
  {
   "cell_type": "code",
   "execution_count": 76,
   "metadata": {},
   "outputs": [
    {
     "name": "stdout",
     "output_type": "stream",
     "text": [
      "              precision    recall  f1-score   support\n",
      "\n",
      "         1.0       0.84      0.87      0.85       496\n",
      "         2.0       0.85      0.85      0.85       471\n",
      "         3.0       0.92      0.88      0.90       420\n",
      "         4.0       0.77      0.97      0.86       491\n",
      "         5.0       0.97      0.73      0.83       532\n",
      "         6.0       1.00      1.00      1.00       537\n",
      "\n",
      "    accuracy                           0.88      2947\n",
      "   macro avg       0.89      0.88      0.88      2947\n",
      "weighted avg       0.89      0.88      0.88      2947\n",
      "\n"
     ]
    }
   ],
   "source": [
    "print(classification_report(y_test, y_pred_rfc)) # adding jerk  accuracy 0.86 to 0.88"
   ]
  },
  {
   "cell_type": "code",
   "execution_count": 52,
   "metadata": {},
   "outputs": [],
   "source": [
    "# cool this got better - code still messy and can be improved - how? use functions? \n",
    "# add more features? perhaps "
   ]
  },
  {
   "cell_type": "code",
   "execution_count": null,
   "metadata": {},
   "outputs": [],
   "source": []
  },
  {
   "cell_type": "code",
   "execution_count": null,
   "metadata": {},
   "outputs": [],
   "source": []
  }
 ],
 "metadata": {
  "kernelspec": {
   "display_name": "Python 3",
   "language": "python",
   "name": "python3"
  },
  "language_info": {
   "codemirror_mode": {
    "name": "ipython",
    "version": 3
   },
   "file_extension": ".py",
   "mimetype": "text/x-python",
   "name": "python",
   "nbconvert_exporter": "python",
   "pygments_lexer": "ipython3",
   "version": "3.7.6"
  }
 },
 "nbformat": 4,
 "nbformat_minor": 4
}
